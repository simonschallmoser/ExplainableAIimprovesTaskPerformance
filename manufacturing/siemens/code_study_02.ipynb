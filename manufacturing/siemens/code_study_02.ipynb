{
 "cells": [
  {
   "cell_type": "markdown",
   "id": "adf858ce",
   "metadata": {},
   "source": [
    "# Study 2: Field experiment"
   ]
  },
  {
   "cell_type": "markdown",
   "id": "90ad1635",
   "metadata": {},
   "source": [
    "## Libraries"
   ]
  },
  {
   "cell_type": "code",
   "id": "b1545a6c",
   "metadata": {
    "ExecuteTime": {
     "end_time": "2024-11-11T09:16:21.976554Z",
     "start_time": "2024-11-11T09:16:19.314590Z"
    }
   },
   "source": [
    "# Import libraries\n",
    "import numpy as np\n",
    "import pandas as pd\n",
    "import scipy\n",
    "from scipy import stats\n",
    "import statsmodels.api as sm\n",
    "import matplotlib\n",
    "import matplotlib.pyplot as plt\n",
    "plt.rcParams['figure.figsize'] = [12, 8]\n",
    "import seaborn as sns\n",
    "import warnings\n",
    "warnings.filterwarnings(\"ignore\")\n",
    "\n",
    "from curlyBrace import curlyBrace"
   ],
   "outputs": [],
   "execution_count": 1
  },
  {
   "cell_type": "code",
   "id": "6a93912e",
   "metadata": {
    "ExecuteTime": {
     "end_time": "2024-11-11T09:16:22.056001Z",
     "start_time": "2024-11-11T09:16:22.044310Z"
    }
   },
   "source": [
    "# Print library versions\n",
    "print(\"numpy version: \" + str(np.__version__))\n",
    "print(\"pandas version: \" + str(pd.__version__))\n",
    "print(\"scipy version: \" + str(scipy.__version__))\n",
    "print(\"statsmodels version: \" + str(sm.__version__))\n",
    "print(\"matplotlib version: \" + str(matplotlib.__version__))\n",
    "print(\"seaborn version: \" + str(sns.__version__))"
   ],
   "outputs": [
    {
     "name": "stdout",
     "output_type": "stream",
     "text": [
      "numpy version: 1.24.3\n",
      "pandas version: 1.5.3\n",
      "scipy version: 1.11.1\n",
      "statsmodels version: 0.14.0\n",
      "matplotlib version: 3.7.1\n",
      "seaborn version: 0.12.2\n"
     ]
    }
   ],
   "execution_count": 2
  },
  {
   "cell_type": "markdown",
   "id": "e7accad1",
   "metadata": {},
   "source": [
    "## Study data"
   ]
  },
  {
   "cell_type": "code",
   "source": [
    "# Import study data (excluding dropouts)\n",
    "data = pd.read_csv(\"data_study_02.csv\")"
   ],
   "metadata": {
    "collapsed": false,
    "pycharm": {
     "name": "#%%\n"
    },
    "ExecuteTime": {
     "end_time": "2024-11-11T09:16:22.601596Z",
     "start_time": "2024-11-11T09:16:22.546141Z"
    }
   },
   "id": "31ec2fc4fedc7dc1",
   "outputs": [],
   "execution_count": 3
  },
  {
   "cell_type": "code",
   "id": "37d016dc",
   "metadata": {
    "ExecuteTime": {
     "end_time": "2024-11-11T09:16:22.674920Z",
     "start_time": "2024-11-11T09:16:22.670087Z"
    }
   },
   "source": [
    "# Print columns names\n",
    "print(data.columns)"
   ],
   "outputs": [
    {
     "name": "stdout",
     "output_type": "stream",
     "text": [
      "Index(['treatment', 'completed_images', 'balanced_accuracy', 'precision',\n",
      "       'defect_detection_rate', 'adherence_accurate_prediction',\n",
      "       'overrule_wrong_prediction', 'median_decision_speed', 'it_skills',\n",
      "       'age', 'education', 'gender', 'tenure'],\n",
      "      dtype='object')\n"
     ]
    }
   ],
   "execution_count": 4
  },
  {
   "cell_type": "code",
   "id": "65ed945a",
   "metadata": {
    "ExecuteTime": {
     "end_time": "2024-11-11T09:16:22.771239Z",
     "start_time": "2024-11-11T09:16:22.762068Z"
    }
   },
   "source": [
    "# Rename treatment arms to \"a\" and \"b\"\n",
    "data[\"treatment\"][data[\"treatment\"]==\"human_with_black-box_AI\"] = \"a\"\n",
    "data[\"treatment\"][data[\"treatment\"]==\"human_with_explainable_AI\"] = \"b\""
   ],
   "outputs": [],
   "execution_count": 5
  },
  {
   "cell_type": "code",
   "id": "d6f7b434",
   "metadata": {
    "ExecuteTime": {
     "end_time": "2024-11-11T09:16:22.899172Z",
     "start_time": "2024-11-11T09:16:22.894456Z"
    }
   },
   "source": [
    "# Print number of participants who completed the study\n",
    "print(\"Number of participants who completed the study: \" + str(data.shape[0]))"
   ],
   "outputs": [
    {
     "name": "stdout",
     "output_type": "stream",
     "text": [
      "Number of participants who completed the study: 56\n"
     ]
    }
   ],
   "execution_count": 6
  },
  {
   "cell_type": "code",
   "id": "9e6a09c9",
   "metadata": {
    "ExecuteTime": {
     "end_time": "2024-11-11T09:16:23.026222Z",
     "start_time": "2024-11-11T09:16:23.020396Z"
    }
   },
   "source": [
    "# Remove participants who did not complete experiment\n",
    "data = data[data[\"completed_images\"]==200]"
   ],
   "outputs": [],
   "execution_count": 7
  },
  {
   "cell_type": "code",
   "id": "70acf605",
   "metadata": {
    "ExecuteTime": {
     "end_time": "2024-11-11T09:16:23.201074Z",
     "start_time": "2024-11-11T09:16:23.196570Z"
    }
   },
   "source": [
    "# Print number of participants who completed the study on time\n",
    "print(\"Number of participants who completed the study within 35 minutes: \" + str(data.shape[0]))"
   ],
   "outputs": [
    {
     "name": "stdout",
     "output_type": "stream",
     "text": [
      "Number of participants who completed the study within 35 minutes: 50\n"
     ]
    }
   ],
   "execution_count": 8
  },
  {
   "cell_type": "code",
   "id": "44718e87",
   "metadata": {
    "ExecuteTime": {
     "end_time": "2024-11-11T09:16:23.281769Z",
     "start_time": "2024-11-11T09:16:23.276196Z"
    }
   },
   "source": [
    "# Remove participants who did not label a single product as defective\n",
    "data = data[data[\"defect_detection_rate\"]>0]"
   ],
   "outputs": [],
   "execution_count": 9
  },
  {
   "cell_type": "code",
   "id": "79d6c2ab",
   "metadata": {
    "ExecuteTime": {
     "end_time": "2024-11-11T09:16:23.363793Z",
     "start_time": "2024-11-11T09:16:23.353941Z"
    }
   },
   "source": [
    "# Remove participants whose performance was more than three standard deviations worse than the mean of their respective treatment arm\n",
    "cutoff_a = data[\"balanced_accuracy\"][data[\"treatment\"]==\"a\"].mean() - 3*data[\"balanced_accuracy\"][data[\"treatment\"] == \"a\"].std()\n",
    "cutoff_b = data[\"balanced_accuracy\"][data[\"treatment\"]==\"b\"].mean() - 3*data[\"balanced_accuracy\"][data[\"treatment\"] == \"b\"].std()\n",
    "data = data[~((data[\"treatment\"]==\"a\") & (data[\"balanced_accuracy\"]<cutoff_a))]\n",
    "data = data[~((data[\"treatment\"]==\"b\") & (data[\"balanced_accuracy\"]<cutoff_b))]"
   ],
   "outputs": [],
   "execution_count": 10
  },
  {
   "cell_type": "code",
   "id": "2a017af5",
   "metadata": {
    "ExecuteTime": {
     "end_time": "2024-11-11T09:16:23.462032Z",
     "start_time": "2024-11-11T09:16:23.457401Z"
    }
   },
   "source": [
    "# Print number of participants in the final sample\n",
    "print(\"Number of participants in the final sample: \" + str(data.shape[0]))"
   ],
   "outputs": [
    {
     "name": "stdout",
     "output_type": "stream",
     "text": [
      "Number of participants in the final sample: 48\n"
     ]
    }
   ],
   "execution_count": 11
  },
  {
   "cell_type": "code",
   "id": "b8c8d5a9",
   "metadata": {
    "ExecuteTime": {
     "end_time": "2024-11-11T09:16:23.586758Z",
     "start_time": "2024-11-11T09:16:23.580723Z"
    }
   },
   "source": [
    "# Print number of participants per treatment arm\n",
    "print(\"Number of participants with black-box AI treatment: \" + str(data[data[\"treatment\"]==\"a\"].shape[0]))\n",
    "print(\"Number of participants with explainable AI treatment: \" + str(data[data[\"treatment\"]==\"b\"].shape[0]))"
   ],
   "outputs": [
    {
     "name": "stdout",
     "output_type": "stream",
     "text": [
      "Number of participants with black-box AI treatment: 22\n",
      "Number of participants with explainable AI treatment: 26\n"
     ]
    }
   ],
   "execution_count": 12
  },
  {
   "cell_type": "markdown",
   "id": "741f72d2",
   "metadata": {},
   "source": [
    "## Study results "
   ]
  },
  {
   "cell_type": "markdown",
   "source": "### Average tenure + standard deviation",
   "metadata": {
    "collapsed": false,
    "pycharm": {
     "name": "#%% md\n"
    }
   },
   "id": "aad25bebda16fa59"
  },
  {
   "cell_type": "code",
   "source": [
    "data['tenure'].mean()"
   ],
   "metadata": {
    "collapsed": false,
    "pycharm": {
     "name": "#%%\n"
    },
    "ExecuteTime": {
     "end_time": "2024-10-01T13:13:50.247688Z",
     "start_time": "2024-10-01T13:13:50.238379Z"
    }
   },
   "id": "18df11d242fcffcd",
   "outputs": [
    {
     "data": {
      "text/plain": [
       "13.791666666666666"
      ]
     },
     "execution_count": 13,
     "metadata": {},
     "output_type": "execute_result"
    }
   ],
   "execution_count": 13
  },
  {
   "metadata": {
    "ExecuteTime": {
     "end_time": "2024-10-01T13:13:50.510066Z",
     "start_time": "2024-10-01T13:13:50.503114Z"
    }
   },
   "cell_type": "code",
   "source": "data['tenure'].std()",
   "id": "153fdb709d2fa620",
   "outputs": [
    {
     "data": {
      "text/plain": [
       "9.782655805553473"
      ]
     },
     "execution_count": 14,
     "metadata": {},
     "output_type": "execute_result"
    }
   ],
   "execution_count": 14
  },
  {
   "cell_type": "markdown",
   "id": "f2236d12",
   "metadata": {},
   "source": [
    "### Boxplots for balanced accuracy"
   ]
  },
  {
   "cell_type": "code",
   "execution_count": 13,
   "outputs": [],
   "source": [
    "plt.rcParams[\"font.family\"] = \"Arial\"\n",
    "#plt.rcParams[\"font.serif\"] = [\"Times New Roman\"]\n",
    "plt.rcParams['font.size'] = 22\n",
    "plt.rcParams['figure.figsize'] = (12, 10)\n",
    "plt.rcParams['mathtext.fontset'] = 'stix'\n",
    "\n",
    "font = {  #'family': 'serif',\n",
    "    #'fontname': 'Times New Roman',\n",
    "    #'style': 'italic',\n",
    "    'size': 20,\n",
    "}"
   ],
   "metadata": {
    "collapsed": false,
    "pycharm": {
     "name": "#%%\n"
    }
   },
   "id": "32bdaab06f9c076f"
  },
  {
   "cell_type": "code",
   "execution_count": 14,
   "outputs": [],
   "source": [
    "# Define colors\n",
    "red = (0.59,0.0,0.09)\n",
    "blue = (0.09,0.43,0.61)\n",
    "orange = (0.8,0.33,0)\n",
    "grey = (0.66,0.66,0.66)"
   ],
   "metadata": {
    "collapsed": false,
    "pycharm": {
     "name": "#%%\n"
    }
   },
   "id": "3c18fb42b8be2bd6"
  },
  {
   "cell_type": "code",
   "execution_count": 15,
   "outputs": [],
   "source": [
    "ai_bacc = 0.956\n",
    "ai_ddr = 0.929\n",
    "ai_prec = 26/29"
   ],
   "metadata": {
    "collapsed": false,
    "pycharm": {
     "name": "#%%\n"
    }
   },
   "id": "6cf081ccde05d0be"
  },
  {
   "cell_type": "code",
   "execution_count": 16,
   "outputs": [
    {
     "name": "stdout",
     "output_type": "stream",
     "text": [
      "t-stat: -3.357, P-val: 0.001\n"
     ]
    },
    {
     "data": {
      "text/plain": "<Figure size 1200x1000 with 1 Axes>",
      "image/png": "[encoded data removed]"
     },
     "metadata": {},
     "output_type": "display_data"
    }
   ],
   "source": [
    "# Plot balanced accuracy for all participants\n",
    "# Calculate t-statistic and p-value\n",
    "t_stat = stats.ttest_ind(data[\"balanced_accuracy\"][data[\"treatment\"]==\"a\"], data[\"balanced_accuracy\"][data[\"treatment\"]==\"b\"], equal_var = False)[0]\n",
    "p_val = stats.ttest_ind(data[\"balanced_accuracy\"][data[\"treatment\"]==\"a\"], data[\"balanced_accuracy\"][data[\"treatment\"]==\"b\"], equal_var = False)[1]/2\n",
    "if p_val < 0.001:\n",
    "    ast = '***'\n",
    "elif p_val < 0.01:\n",
    "    ast = '**'\n",
    "elif p_val < 0.05:\n",
    "    ast = '*'\n",
    "else:\n",
    "    ast = ' '\n",
    "print(\"t-stat: \" + str(round(t_stat,3))+ \", P-val: \" + str(round(p_val,4)))\n",
    "fig = plt.figure()\n",
    "ax = sns.violinplot(x=\"treatment\", y=\"balanced_accuracy\", data=data, inner=None, palette=[red, blue], alpha=0.4, cut=0, order=[\"a\", \"b\"])\n",
    "for art in ax.collections:\n",
    "    art.set_alpha(0.2)\n",
    "ax1 = sns.boxplot(x=\"treatment\", y=\"balanced_accuracy\", data=data, orient=\"v\", width=0.15, color=\"grey\", linewidth=3, boxprops={'facecolor':'none', \"zorder\":10}, order=[\"a\", \"b\"])\n",
    "ax1 = sns.stripplot(x=\"treatment\", y=\"balanced_accuracy\", data=data, palette=[red, blue], size=10, jitter=0.075, order=[\"a\", \"b\"], alpha=0.3)\n",
    "#plt.scatter(0, data[data['treatment'] == 'a']['balanced_accuracy'].mean(), marker='s', color='black', s=50, alpha=0.6)\n",
    "#plt.scatter(1, data[data['treatment'] == 'b']['balanced_accuracy'].mean(), marker='s', color='black', s=50, alpha=0.6, label='Mean')\n",
    "plt.hlines(ai_bacc, -0.5, 1.5, linestyles='--', color=orange, linewidth=3, alpha=1, label='Performance of standalone AI algorithm')\n",
    "plt.hlines(0.5, -0.5, 1.5, linestyles='dotted', color='black', linewidth=3, alpha=1)\n",
    "for i in np.arange(0.5, 1.09, 0.1):\n",
    "    plt.hlines(i, -0.5, 1.5, color='grey', linewidth=1, alpha=0.5)\n",
    "plt.xticks([0, 1], [\"Human + black-box AI\", \"Human + explainable AI\"])\n",
    "plt.yticks([0.5, 0.6, 0.7, 0.8, 0.9, 1, ai_bacc], labels=['50%', '60%', '70%', '80%', '90%', '100%', f'{np.round(ai_bacc*100, 1)}%'])\n",
    "plt.xlabel(\"\")\n",
    "plt.xlim(-0.5, 1.5)\n",
    "plt.ylabel(\"Balanced accuracy\")\n",
    "plt.legend(loc=(0.2, -0.15), fancybox=False)\n",
    "ax.get_yticklabels()[-1].set_color((0.8,0.33,0))\n",
    "curlyBrace(fig, ax, [0, 0.95], [1, 0.95], 0.01, bool_auto=False, str_text=f'$t={np.round(np.abs(t_stat),3)}{ast}$', color='black', lw=2, int_line_num=1, fontdict=font)\n",
    "plt.savefig('../results/results_balanced_accuracy_study2.pdf', bbox_inches='tight')"
   ],
   "metadata": {
    "collapsed": false,
    "pycharm": {
     "name": "#%%\n"
    }
   },
   "id": "7810e634c055ec8e"
  },
  {
   "cell_type": "code",
   "execution_count": 19,
   "outputs": [
    {
     "name": "stdout",
     "output_type": "stream",
     "text": [
      "t-stat: -3.357, P-val: 0.001\n",
      "t-stat: -2.876, P-val: 0.0035\n"
     ]
    },
    {
     "data": {
      "text/plain": "<Figure size 1800x1000 with 2 Axes>",
      "image/png": "[encoded data removed]"
     },
     "metadata": {},
     "output_type": "display_data"
    }
   ],
   "source": [
    "# Plot balanced accuracy and disease detection rate for all participants\n",
    "# Calculate t-statistic and p-value\n",
    "plt.figure(figsize=(18, 10))\n",
    "plt.subplots_adjust(wspace=0.3)\n",
    "for metric in ['balanced_accuracy', 'defect_detection_rate']:\n",
    "    if metric == 'balanced_accuracy':\n",
    "        ai_metric = ai_bacc\n",
    "        plot_id = 1\n",
    "        label = 'Balanced accuracy'\n",
    "        legend = 'Performance of standalone AI algorithm'\n",
    "    elif metric == 'defect_detection_rate':\n",
    "        ai_metric = ai_ddr\n",
    "        plot_id = 2\n",
    "        label = 'Defect detection rate'\n",
    "        legend = None\n",
    "    else:\n",
    "        raise ValueError('Unknown metric', metric)\n",
    "    plt.subplot(1, 2, plot_id)\n",
    "    t_stat = stats.ttest_ind(data[metric][data[\"treatment\"]==\"a\"], data[metric][data[\"treatment\"]==\"b\"], equal_var = False)[0]\n",
    "    p_val = stats.ttest_ind(data[metric][data[\"treatment\"]==\"a\"], data[metric][data[\"treatment\"]==\"b\"], equal_var = False)[1]/2\n",
    "    if p_val < 0.001:\n",
    "        ast = '***'\n",
    "    elif p_val < 0.01:\n",
    "        ast = '**'\n",
    "    elif p_val < 0.05:\n",
    "        ast = '*'\n",
    "    else:\n",
    "        ast = ' '\n",
    "    print(\"t-stat: \" + str(round(t_stat,3))+ \", P-val: \" + str(round(p_val,4)))\n",
    "    #fig = plt.figure()\n",
    "    ax = sns.violinplot(x=\"treatment\", y=metric, data=data, inner=None, palette=[red, blue], alpha=0.4, cut=0, order=[\"a\", \"b\"])\n",
    "    for art in ax.collections:\n",
    "        art.set_alpha(0.2)\n",
    "    ax1 = sns.boxplot(x=\"treatment\", y=metric, data=data, orient=\"v\", width=0.15, color=\"grey\", linewidth=3, boxprops={'facecolor':'none', \"zorder\":10}, order=[\"a\", \"b\"])\n",
    "    ax1 = sns.stripplot(x=\"treatment\", y=metric, data=data, palette=[red, blue], size=10, jitter=0.075, order=[\"a\", \"b\"], alpha=0.3)\n",
    "    #plt.scatter(0, data[data['treatment'] == 'a']['balanced_accuracy'].mean(), marker='s', color='black', s=50, alpha=0.6)\n",
    "    #plt.scatter(1, data[data['treatment'] == 'b']['balanced_accuracy'].mean(), marker='s', color='black', s=50, alpha=0.6, label='Mean')\n",
    "    plt.hlines(ai_metric, -0.5, 1.5, linestyles='--', color=orange, linewidth=3, alpha=1, label=legend)\n",
    "    if metric == 'balanced_accuracy':\n",
    "        plt.hlines(0.5, -0.5, 1.5, linestyles='dotted', color='black', linewidth=3, alpha=1)\n",
    "    for i in np.arange(0.4, 1.09, 0.1):\n",
    "        plt.hlines(i, -0.5, 1.5, color='grey', linewidth=1, alpha=0.5)\n",
    "    plt.xticks([0, 1], [\"Human + black-box AI\", \"Human + explainable AI\"], fontsize=16)\n",
    "    plt.yticks([0.4, 0.5, 0.6, 0.7, 0.8, 0.9, 1, ai_metric], labels=['40%', '50%', '60%', '70%', '80%', '90%', '100%', f'{np.round(ai_metric*100, 1)}%'])\n",
    "    plt.xlabel(None)\n",
    "    plt.ylabel(label)\n",
    "    plt.xlim(-0.5, 1.5)\n",
    "    plt.ylim(0.32, 1.07)\n",
    "    #plt.title(label)\n",
    "    ax.get_yticklabels()[-1].set_color((0.8,0.33,0))\n",
    "    brace_y_offset = data[metric].max() + 0.01\n",
    "    curlyBrace(fig, ax, [0, 1.01], [1, 1.01], 0.01, bool_auto=False, str_text=f'$t={np.round(np.abs(t_stat),3)}$'+ f'{ast}'+ f'$\\, \\, (P={np.round(p_val, 3)})$', color='black', lw=2, int_line_num=1, fontdict=font)\n",
    "    #if plot_id == 1:\n",
    "    #    plt.legend(loc=(0.4, -0.15))\n",
    "    if metric == 'balanced_accuracy':\n",
    "        plt.text(-0.95, 1.1, 'A', weight='bold', fontsize=24)\n",
    "    else:\n",
    "        plt.text(-0.95, 1.1, 'B', weight='bold', fontsize=24)\n",
    "plt.figlegend(loc=(0.376, 0.015), fancybox=False, fontsize=18)\n",
    "#plt.tight_layout()\n",
    "plt.savefig('../results/results_combined_study2.pdf', bbox_inches='tight')"
   ],
   "metadata": {
    "collapsed": false,
    "pycharm": {
     "name": "#%%\n"
    }
   },
   "id": "8eec9ca8ea57b947"
  },
  {
   "cell_type": "markdown",
   "id": "0a6da63b",
   "metadata": {},
   "source": [
    "### Statistical test for balanced accuracy"
   ]
  },
  {
   "cell_type": "code",
   "execution_count": 18,
   "outputs": [
    {
     "name": "stdout",
     "output_type": "stream",
     "text": [
      "88.6\n",
      "96.3\n"
     ]
    }
   ],
   "source": [
    "# Print mean balanced accuracy for treatment arms\n",
    "print(round(data[\"balanced_accuracy\"][data[\"treatment\"]==\"a\"].mean()*100,1))\n",
    "print(round(data[\"balanced_accuracy\"][data[\"treatment\"]==\"b\"].mean()*100,1))"
   ],
   "metadata": {
    "collapsed": false,
    "pycharm": {
     "name": "#%%\n"
    }
   },
   "id": "2405702650b943c0"
  },
  {
   "cell_type": "code",
   "execution_count": 19,
   "outputs": [
    {
     "data": {
      "text/plain": "7.7"
     },
     "execution_count": 19,
     "metadata": {},
     "output_type": "execute_result"
    }
   ],
   "source": [
    "# Calculate difference in means\n",
    "np.round(data[\"balanced_accuracy\"][data[\"treatment\"]==\"b\"].mean()*100 - data[\"balanced_accuracy\"][data[\"treatment\"]==\"a\"].mean()*100, 1)"
   ],
   "metadata": {
    "collapsed": false,
    "pycharm": {
     "name": "#%%\n"
    }
   },
   "id": "bd36a4d06338611f"
  },
  {
   "cell_type": "code",
   "execution_count": 20,
   "id": "39effa40",
   "metadata": {},
   "outputs": [
    {
     "name": "stdout",
     "output_type": "stream",
     "text": [
      "89.3\n",
      "98.2\n"
     ]
    }
   ],
   "source": [
    "# Print median balanced accuracy for treatment arms\n",
    "print(round(data[\"balanced_accuracy\"][data[\"treatment\"]==\"a\"].median()*100,1))\n",
    "print(round(data[\"balanced_accuracy\"][data[\"treatment\"]==\"b\"].median()*100,1))"
   ]
  },
  {
   "cell_type": "code",
   "execution_count": 21,
   "id": "db7a358e",
   "metadata": {},
   "outputs": [
    {
     "name": "stdout",
     "output_type": "stream",
     "text": [
      "t-stat: -3.357, P-val: 0.001\n"
     ]
    }
   ],
   "source": [
    "# One-sided Welch's t-test for balanced accuracy (\"human + black-box AI\" vs. \"human + explainable AI\")\n",
    "t_stat = stats.ttest_ind(data[\"balanced_accuracy\"][data[\"treatment\"]==\"a\"], data[\"balanced_accuracy\"][data[\"treatment\"]==\"b\"], equal_var = False)[0]\n",
    "p_val = stats.ttest_ind(data[\"balanced_accuracy\"][data[\"treatment\"]==\"a\"], data[\"balanced_accuracy\"][data[\"treatment\"]==\"b\"], equal_var = False)[1]/2\n",
    "print(\"t-stat: \" + str(round(t_stat,3))+ \", P-val: \" + str(round(p_val,4)))"
   ]
  },
  {
   "cell_type": "markdown",
   "id": "2c172eee",
   "metadata": {},
   "source": [
    "### OLS Regression for balanced accuracy"
   ]
  },
  {
   "cell_type": "code",
   "execution_count": 22,
   "id": "d5cd085c",
   "metadata": {},
   "outputs": [
    {
     "name": "stdout",
     "output_type": "stream",
     "text": [
      "                            OLS Regression Results                            \n",
      "==============================================================================\n",
      "Dep. Variable:      balanced_accuracy   R-squared:                       0.212\n",
      "Model:                            OLS   Adj. R-squared:                  0.194\n",
      "Method:                 Least Squares   F-statistic:                     12.34\n",
      "Date:                Tue, 16 Apr 2024   Prob (F-statistic):            0.00101\n",
      "Time:                        16:36:53   Log-Likelihood:                -163.93\n",
      "No. Observations:                  48   AIC:                             331.9\n",
      "Df Residuals:                      46   BIC:                             335.6\n",
      "Df Model:                           1                                         \n",
      "Covariance Type:            nonrobust                                         \n",
      "==============================================================================\n",
      "                 coef    std err          t      P>|t|      [0.025      0.975]\n",
      "------------------------------------------------------------------------------\n",
      "const         88.5986      1.603     55.260      0.000      85.371      91.826\n",
      "treatment      7.6527      2.178      3.513      0.001       3.268      12.038\n",
      "==============================================================================\n",
      "Omnibus:                        8.295   Durbin-Watson:                   1.635\n",
      "Prob(Omnibus):                  0.016   Jarque-Bera (JB):                7.506\n",
      "Skew:                          -0.929   Prob(JB):                       0.0235\n",
      "Kurtosis:                       3.550   Cond. No.                         2.73\n",
      "==============================================================================\n",
      "\n",
      "Notes:\n",
      "[1] Standard Errors assume that the covariance matrix of the errors is correctly specified.\n"
     ]
    }
   ],
   "source": [
    "# OLS regression model without control variables\n",
    "X = data.loc[:,[\"treatment\"]]\n",
    "X = X[X[\"treatment\"] != \"c\"]\n",
    "X[\"treatment\"] = np.where(X[\"treatment\"] == \"a\", 0, 1)\n",
    "X = sm.add_constant(X)\n",
    "X = X.astype(float)\n",
    "y = data.loc[:, \"balanced_accuracy\"].astype(float)*100\n",
    "y = y.loc[X.index]\n",
    "model = sm.OLS(y, X)\n",
    "results = model.fit()\n",
    "print(results.summary())"
   ]
  },
  {
   "metadata": {},
   "cell_type": "markdown",
   "source": "### OLS Regression for defect detection rate",
   "id": "c6a62de168742f70"
  },
  {
   "metadata": {
    "ExecuteTime": {
     "end_time": "2024-11-11T09:16:34.185862Z",
     "start_time": "2024-11-11T09:16:34.166817Z"
    }
   },
   "cell_type": "code",
   "source": [
    "# OLS regression model without control variables\n",
    "X = data.loc[:,[\"treatment\"]]\n",
    "X = X[X[\"treatment\"] != \"c\"]\n",
    "X[\"treatment\"] = np.where(X[\"treatment\"] == \"a\", 0, 1)\n",
    "X = sm.add_constant(X)\n",
    "X = X.astype(float)\n",
    "y = data.loc[:, \"defect_detection_rate\"].astype(float)*100\n",
    "y = y.loc[X.index]\n",
    "model = sm.OLS(y, X)\n",
    "results = model.fit()\n",
    "print(results.summary())"
   ],
   "id": "c5a76aba62725543",
   "outputs": [
    {
     "name": "stdout",
     "output_type": "stream",
     "text": [
      "                              OLS Regression Results                             \n",
      "=================================================================================\n",
      "Dep. Variable:     defect_detection_rate   R-squared:                       0.163\n",
      "Model:                               OLS   Adj. R-squared:                  0.145\n",
      "Method:                    Least Squares   F-statistic:                     8.959\n",
      "Date:                   Mon, 11 Nov 2024   Prob (F-statistic):            0.00443\n",
      "Time:                           10:16:34   Log-Likelihood:                -189.09\n",
      "No. Observations:                     48   AIC:                             382.2\n",
      "Df Residuals:                         46   BIC:                             385.9\n",
      "Df Model:                              1                                         \n",
      "Covariance Type:               nonrobust                                         \n",
      "==============================================================================\n",
      "                 coef    std err          t      P>|t|      [0.025      0.975]\n",
      "------------------------------------------------------------------------------\n",
      "const         81.9805      2.708     30.271      0.000      76.529      87.432\n",
      "treatment     11.0140      3.680      2.993      0.004       3.607      18.421\n",
      "==============================================================================\n",
      "Omnibus:                       18.121   Durbin-Watson:                   2.086\n",
      "Prob(Omnibus):                  0.000   Jarque-Bera (JB):               23.454\n",
      "Skew:                          -1.318   Prob(JB):                     8.07e-06\n",
      "Kurtosis:                       5.186   Cond. No.                         2.73\n",
      "==============================================================================\n",
      "\n",
      "Notes:\n",
      "[1] Standard Errors assume that the covariance matrix of the errors is correctly specified.\n"
     ]
    }
   ],
   "execution_count": 14
  },
  {
   "cell_type": "markdown",
   "id": "96d82b33",
   "metadata": {},
   "source": [
    "### Analysis of adherence to accurate predictions"
   ]
  },
  {
   "cell_type": "code",
   "execution_count": 23,
   "id": "0eba1c20",
   "metadata": {},
   "outputs": [
    {
     "name": "stdout",
     "output_type": "stream",
     "text": [
      "93.5\n",
      "98.6\n"
     ]
    }
   ],
   "source": [
    "# Print mean values for how often participants follow accurate predictions (\"human + black-box AI\" vs. \"human + explainable AI\")\n",
    "print(round(data[\"adherence_accurate_prediction\"][data[\"treatment\"]==\"a\"].mean()*100,1))\n",
    "print(round(data[\"adherence_accurate_prediction\"][data[\"treatment\"]==\"b\"].mean()*100,1))"
   ]
  },
  {
   "cell_type": "code",
   "execution_count": 24,
   "id": "10a0c7da",
   "metadata": {},
   "outputs": [
    {
     "name": "stdout",
     "output_type": "stream",
     "text": [
      "t-stat: -2.437, P-val: 0.0114\n"
     ]
    }
   ],
   "source": [
    "# One-sided Welch's t-test for how often participants follow accurate predictions (\"human + black-box AI\" vs. \"human + explainable AI\")\n",
    "t_stat = stats.ttest_ind(data[\"adherence_accurate_prediction\"][data[\"treatment\"]==\"a\"], data[\"adherence_accurate_prediction\"][data[\"treatment\"]==\"b\"], equal_var = False)[0]\n",
    "p_val = stats.ttest_ind(data[\"adherence_accurate_prediction\"][data[\"treatment\"]==\"a\"], data[\"adherence_accurate_prediction\"][data[\"treatment\"]==\"b\"], equal_var = False)[1]/2\n",
    "print(\"t-stat: \" + str(round(t_stat,3))+ \", P-val: \" + str(round(p_val,4)))"
   ]
  },
  {
   "cell_type": "markdown",
   "id": "ce9b9280",
   "metadata": {},
   "source": [
    "### Analysis of overruling of wrong predictions"
   ]
  },
  {
   "cell_type": "code",
   "execution_count": 25,
   "id": "7b255232",
   "metadata": {},
   "outputs": [
    {
     "name": "stdout",
     "output_type": "stream",
     "text": [
      "86.4\n",
      "96.9\n"
     ]
    }
   ],
   "source": [
    "# Print mean values for how often participants overrule wrong predictions (\"human + black-box AI\" vs. \"human + explainable AI\")\n",
    "print(round(data[\"overrule_wrong_prediction\"][data[\"treatment\"]==\"a\"].mean()*100,1))\n",
    "print(round(data[\"overrule_wrong_prediction\"][data[\"treatment\"]==\"b\"].mean()*100,1))"
   ]
  },
  {
   "cell_type": "code",
   "execution_count": 26,
   "id": "9e3db498",
   "metadata": {},
   "outputs": [
    {
     "name": "stdout",
     "output_type": "stream",
     "text": [
      "t-stat: -2.631, P-val: 0.0065\n"
     ]
    }
   ],
   "source": [
    "# One-sided Welch's t-test for how often participants overrule wrong predictions (\"human + explainable AI\" vs. \"human without AI\")\n",
    "t_stat = stats.ttest_ind(data[\"overrule_wrong_prediction\"][data[\"treatment\"]==\"a\"], data[\"overrule_wrong_prediction\"][data[\"treatment\"]==\"b\"], equal_var = False)[0]\n",
    "p_val = stats.ttest_ind(data[\"overrule_wrong_prediction\"][data[\"treatment\"]==\"a\"], data[\"overrule_wrong_prediction\"][data[\"treatment\"]==\"b\"], equal_var = False)[1]/2\n",
    "print(\"t-stat: \" + str(round(t_stat, 3))+ \", P-val: \" + str(round(p_val, 4)))"
   ]
  },
  {
   "cell_type": "markdown",
   "id": "4edf64cc",
   "metadata": {},
   "source": [
    "### Analysis of decision speed"
   ]
  },
  {
   "cell_type": "code",
   "execution_count": 27,
   "id": "b0e8eaa3",
   "metadata": {},
   "outputs": [
    {
     "name": "stdout",
     "output_type": "stream",
     "text": [
      "5.01\n",
      "4.88\n"
     ]
    }
   ],
   "source": [
    "# Print mean values for participants' median decision speed (\"human + black-box AI\" vs. \"human + explainable AI\")\n",
    "print(round(data[\"median_decision_speed\"][data[\"treatment\"]==\"a\"].mean(),2))\n",
    "print(round(data[\"median_decision_speed\"][data[\"treatment\"]==\"b\"].mean(),2))"
   ]
  },
  {
   "cell_type": "code",
   "execution_count": 28,
   "id": "ccb84d7b",
   "metadata": {},
   "outputs": [
    {
     "name": "stdout",
     "output_type": "stream",
     "text": [
      "t-stat: 0.308, P-val: 0.3797\n"
     ]
    }
   ],
   "source": [
    "# One-sided Welch's t-test for participants' median decision speed  (\"human + black-box AI\" vs. \"human + explainable AI\")\n",
    "t_stat = stats.ttest_ind(data[\"median_decision_speed\"][data[\"treatment\"]==\"a\"], data[\"median_decision_speed\"][data[\"treatment\"]==\"b\"], equal_var = False)[0]\n",
    "p_val = stats.ttest_ind(data[\"median_decision_speed\"][data[\"treatment\"]==\"a\"], data[\"median_decision_speed\"][data[\"treatment\"]==\"b\"], equal_var = False)[1]/2\n",
    "print(\"t-stat: \" + str(round(t_stat,3))+ \", P-val: \" + str(round(p_val,4)))"
   ]
  },
  {
   "cell_type": "markdown",
   "id": "68e5b7bc",
   "metadata": {},
   "source": [
    "## Supplement C: Preregistered hypotheses"
   ]
  },
  {
   "cell_type": "markdown",
   "id": "abdf330f",
   "metadata": {},
   "source": [
    "### Hypothesis H1: Explainable AI improves the overall task performance (measured by the balanced accuracy and defect detection rate) compared to humans without AI (i.e., manual inspection)."
   ]
  },
  {
   "cell_type": "markdown",
   "id": "b9672545",
   "metadata": {},
   "source": [
    "not part of preregistration"
   ]
  },
  {
   "cell_type": "markdown",
   "id": "746a5666",
   "metadata": {},
   "source": [
    "### Hypothesis H2: Explainable AI improves the overall task performance (measured by the balanced accuracy and defect detection rate) compared to black-box AI."
   ]
  },
  {
   "cell_type": "code",
   "execution_count": 29,
   "id": "0b799de0",
   "metadata": {},
   "outputs": [
    {
     "name": "stdout",
     "output_type": "stream",
     "text": [
      "t-stat: -3.357, P-val: 0.001\n"
     ]
    }
   ],
   "source": [
    "# One-sided Welch's t-test for balanced accuracy (\"human + black-box AI\" vs. \"human + explainable AI\")\n",
    "t_stat = stats.ttest_ind(data[\"balanced_accuracy\"][data[\"treatment\"]==\"a\"], data[\"balanced_accuracy\"][data[\"treatment\"]==\"b\"], equal_var = False)[0]\n",
    "p_val = stats.ttest_ind(data[\"balanced_accuracy\"][data[\"treatment\"]==\"a\"], data[\"balanced_accuracy\"][data[\"treatment\"]==\"b\"], equal_var = False)[1]/2\n",
    "print(\"t-stat: \" + str(round(t_stat,3))+ \", P-val: \" + str(round(p_val,4)))"
   ]
  },
  {
   "cell_type": "code",
   "execution_count": 30,
   "id": "0e71c94f",
   "metadata": {},
   "outputs": [
    {
     "name": "stdout",
     "output_type": "stream",
     "text": [
      "t-stat: -2.876, P-val: 0.0035\n"
     ]
    }
   ],
   "source": [
    "# One-sided Welch's t-test for defect detection rate (\"human + black-box AI\" vs. \"human + explainable AI\")\n",
    "t_stat = stats.ttest_ind(data[\"defect_detection_rate\"][data[\"treatment\"]==\"a\"], data[\"defect_detection_rate\"][data[\"treatment\"]==\"b\"], equal_var = False)[0]\n",
    "p_val = stats.ttest_ind(data[\"defect_detection_rate\"][data[\"treatment\"]==\"a\"], data[\"defect_detection_rate\"][data[\"treatment\"]==\"b\"], equal_var = False)[1]/2\n",
    "print(\"t-stat: \" + str(round(t_stat,3))+ \", P-val: \" + str(round(p_val,4)))"
   ]
  },
  {
   "cell_type": "markdown",
   "id": "0b478393",
   "metadata": {},
   "source": [
    "### Hypothesis H3: Explainable AI reduces variation in task performance (measured by the variance in the balanced accuracy and defect detection rate) compared to black-box AI."
   ]
  },
  {
   "cell_type": "code",
   "execution_count": 31,
   "id": "9cb26330",
   "metadata": {},
   "outputs": [
    {
     "name": "stdout",
     "output_type": "stream",
     "text": [
      "W-stat: 10.438, P-val: 0.0023\n"
     ]
    }
   ],
   "source": [
    "# Levene's test for balanced accuracy (\"human + black-box AI\" vs. \"human + explainable AI\")\n",
    "W_stat = stats.levene(data[\"balanced_accuracy\"][data[\"treatment\"]==\"a\"], data[\"balanced_accuracy\"][data[\"treatment\"]==\"b\"])[0]\n",
    "p_val = stats.levene(data[\"balanced_accuracy\"][data[\"treatment\"]==\"a\"], data[\"balanced_accuracy\"][data[\"treatment\"]==\"b\"])[1]\n",
    "print(\"W-stat: \" + str(round(W_stat,3))+ \", P-val: \" + str(round(p_val,4)))"
   ]
  },
  {
   "cell_type": "code",
   "execution_count": 32,
   "id": "9ffddb9a",
   "metadata": {},
   "outputs": [
    {
     "name": "stdout",
     "output_type": "stream",
     "text": [
      "W-stat: 5.515, P-val: 0.0232\n"
     ]
    }
   ],
   "source": [
    "# Levene's test for defect detection rate (\"human + black-box AI\" vs. \"human + explainable AI\")\n",
    "W_stat = stats.levene(data[\"defect_detection_rate\"][data[\"treatment\"]==\"a\"], data[\"defect_detection_rate\"][data[\"treatment\"]==\"b\"])[0]\n",
    "p_val = stats.levene(data[\"defect_detection_rate\"][data[\"treatment\"]==\"a\"], data[\"defect_detection_rate\"][data[\"treatment\"]==\"b\"])[1]\n",
    "print(\"W-stat: \" + str(round(W_stat,3))+ \", P-val: \" + str(round(p_val,4)))"
   ]
  },
  {
   "cell_type": "markdown",
   "id": "30efaad8",
   "metadata": {},
   "source": [
    "### Hypothesis H4: Explainable AI increases the trust in model decisions (measured by the rate of correct model decisions that are not overruled by the user) compared to black-box AI."
   ]
  },
  {
   "cell_type": "code",
   "execution_count": 33,
   "id": "6bc50409",
   "metadata": {},
   "outputs": [
    {
     "name": "stdout",
     "output_type": "stream",
     "text": [
      "t-stat: -2.437, P-val: 0.0114\n"
     ]
    }
   ],
   "source": [
    "# Print mean values for how often participants follow accurate predictions (\"human + black-box AI\" vs. \"human + explainable AI\")\n",
    "t_stat = stats.ttest_ind(data[\"adherence_accurate_prediction\"][data[\"treatment\"]==\"a\"], data[\"adherence_accurate_prediction\"][data[\"treatment\"]==\"b\"], equal_var = False)[0]\n",
    "p_val = stats.ttest_ind(data[\"adherence_accurate_prediction\"][data[\"treatment\"]==\"a\"], data[\"adherence_accurate_prediction\"][data[\"treatment\"]==\"b\"], equal_var = False)[1]/2\n",
    "print(\"t-stat: \" + str(round(t_stat,3))+ \", P-val: \" + str(round(p_val,4)))"
   ]
  },
  {
   "cell_type": "markdown",
   "id": "7b7c2abe",
   "metadata": {},
   "source": [
    "## Supplement D: Results with defect detection rate and precision"
   ]
  },
  {
   "cell_type": "code",
   "execution_count": 20,
   "outputs": [
    {
     "name": "stdout",
     "output_type": "stream",
     "text": [
      "t-stat: -2.876, P-val: 0.0035\n",
      "t-stat: -1.674, P-val: 0.0533\n"
     ]
    },
    {
     "data": {
      "text/plain": "<Figure size 1800x1000 with 2 Axes>",
      "image/png": "[encoded data removed]"
     },
     "metadata": {},
     "output_type": "display_data"
    }
   ],
   "source": [
    "# Plot disease detection rate and precision for all participants\n",
    "# Calculate t-statistic and p-value\n",
    "plt.figure(figsize=(18, 10))\n",
    "plt.subplots_adjust(wspace=0.3)\n",
    "for metric in ['defect_detection_rate', 'precision']:\n",
    "    if metric == 'defect_detection_rate':\n",
    "        ai_metric = ai_ddr\n",
    "        plot_id = 1\n",
    "        label = 'Defect detection rate'\n",
    "        legend = 'Performance of standalone AI algorithm'\n",
    "    elif metric == 'precision':\n",
    "        ai_metric = ai_prec\n",
    "        plot_id = 2\n",
    "        label = 'Precision'\n",
    "        legend = None\n",
    "    else:\n",
    "        raise ValueError('Unknown metric', metric)\n",
    "    plt.subplot(1, 2, plot_id)\n",
    "    t_stat = stats.ttest_ind(data[metric][data[\"treatment\"]==\"a\"], data[metric][data[\"treatment\"]==\"b\"], equal_var = False)[0]\n",
    "    p_val = stats.ttest_ind(data[metric][data[\"treatment\"]==\"a\"], data[metric][data[\"treatment\"]==\"b\"], equal_var = False)[1]/2\n",
    "    if p_val < 0.001:\n",
    "        ast = '***'\n",
    "    elif p_val < 0.01:\n",
    "        ast = '**'\n",
    "    elif p_val < 0.05:\n",
    "        ast = '*'\n",
    "    else:\n",
    "        ast = ' '\n",
    "    print(\"t-stat: \" + str(round(t_stat,3))+ \", P-val: \" + str(round(p_val,4)))\n",
    "    #fig = plt.figure()\n",
    "    ax = sns.violinplot(x=\"treatment\", y=metric, data=data, inner=None, palette=[red, blue], alpha=0.4, cut=0, order=[\"a\", \"b\"])\n",
    "    for art in ax.collections:\n",
    "        art.set_alpha(0.2)\n",
    "    ax1 = sns.boxplot(x=\"treatment\", y=metric, data=data, orient=\"v\", width=0.15, color=\"grey\", linewidth=3, boxprops={'facecolor':'none', \"zorder\":10}, order=[\"a\", \"b\"])\n",
    "    ax1 = sns.stripplot(x=\"treatment\", y=metric, data=data, palette=[red, blue], size=10, jitter=0.075, order=[\"a\", \"b\"], alpha=0.3)\n",
    "    #plt.scatter(0, data[data['treatment'] == 'a']['balanced_accuracy'].mean(), marker='s', color='black', s=50, alpha=0.6)\n",
    "    #plt.scatter(1, data[data['treatment'] == 'b']['balanced_accuracy'].mean(), marker='s', color='black', s=50, alpha=0.6, label='Mean')\n",
    "    plt.hlines(ai_metric, -0.5, 1.5, linestyles='--', color=orange, linewidth=3, alpha=1, label=legend)\n",
    "    if metric == 'balanced_accuracy':\n",
    "        plt.hlines(0.5, -0.5, 1.5, linestyles='dotted', color='black', linewidth=3, alpha=1)\n",
    "    for i in np.arange(0.0, 1.09, 0.2):\n",
    "        plt.hlines(i, -0.5, 1.5, color='grey', linewidth=1, alpha=0.5)\n",
    "    plt.xticks([0, 1], [\"Human + black-box AI\", \"Human + explainable AI\"], fontsize=16)\n",
    "    plt.yticks([0, 0.2, 0.4, 0.6, 0.8, 1, ai_metric], labels=['0%', '20%', '40%', '60%', '80%', '100%', f'{np.round(ai_metric*100, 1)}%'])\n",
    "    plt.xlabel(None)\n",
    "    plt.ylabel(label)\n",
    "    plt.xlim(-0.5, 1.5)\n",
    "    plt.ylim(0, 1.1)\n",
    "    #plt.title(label)\n",
    "    ax.get_yticklabels()[-1].set_color((0.8,0.33,0))\n",
    "    brace_y_offset = data[metric].max() + 0.01\n",
    "    if ast == ' ':\n",
    "        curlyBrace(fig, ax, [0, 1.02], [1, 1.02], 0.01, bool_auto=False, str_text=f'$t={np.round(np.abs(t_stat),3)}$'+ f'{ast}'+ f'$(P={np.round(p_val, 3)})$', color='black', lw=2, int_line_num=1, fontdict=font)\n",
    "    else:\n",
    "        curlyBrace(fig, ax, [0, 1.02], [1, 1.02], 0.01, bool_auto=False, str_text=f'$t={np.round(np.abs(t_stat),3)}$'+ f'{ast}'+ f'$\\, \\, (P={np.round(p_val, 3)})$', color='black', lw=2, int_line_num=1, fontdict=font)\n",
    "    #if plot_id == 1:\n",
    "    #    plt.legend(loc=(0.4, -0.15))\n",
    "    if metric == 'defect_detection_rate':\n",
    "        plt.text(-0.95, 1.1, 'A', weight='bold', fontsize=24)\n",
    "    else:\n",
    "        plt.text(-0.95, 1.1, 'B', weight='bold', fontsize=24)\n",
    "plt.figlegend(loc=(0.376, 0.015), fancybox=False, fontsize=18)\n",
    "#plt.tight_layout()\n",
    "plt.savefig('../results/results_combined_study2_supp.pdf', bbox_inches='tight')"
   ],
   "metadata": {
    "collapsed": false,
    "pycharm": {
     "name": "#%%\n"
    }
   },
   "id": "e07590e01291c268"
  },
  {
   "cell_type": "code",
   "execution_count": 35,
   "outputs": [
    {
     "name": "stdout",
     "output_type": "stream",
     "text": [
      "100.0\n",
      "100.0\n"
     ]
    }
   ],
   "source": [
    "# Print median precision for treatment arms\n",
    "print(round(data[\"precision\"][data[\"treatment\"]==\"a\"].median()*100,1))\n",
    "print(round(data[\"precision\"][data[\"treatment\"]==\"b\"].median()*100,1))"
   ],
   "metadata": {
    "collapsed": false,
    "pycharm": {
     "name": "#%%\n"
    }
   },
   "id": "c849ca783d156881"
  },
  {
   "cell_type": "code",
   "execution_count": 36,
   "outputs": [
    {
     "name": "stdout",
     "output_type": "stream",
     "text": [
      "87.6\n",
      "97.3\n"
     ]
    }
   ],
   "source": [
    "# Print mean precision for treatment arms\n",
    "print(round(data[\"precision\"][data[\"treatment\"]==\"a\"].mean()*100,1))\n",
    "print(round(data[\"precision\"][data[\"treatment\"]==\"b\"].mean()*100,1))"
   ],
   "metadata": {
    "collapsed": false,
    "pycharm": {
     "name": "#%%\n"
    }
   },
   "id": "ff591ccbc70cf91f"
  },
  {
   "cell_type": "code",
   "execution_count": 37,
   "id": "b848b293",
   "metadata": {},
   "outputs": [
    {
     "name": "stdout",
     "output_type": "stream",
     "text": [
      "t-stat: -1.674, P-val: 0.0533\n"
     ]
    }
   ],
   "source": [
    "# One-sided Welch's t-test for precision (\"human + black-box AI\" vs. \"human + explainable AI\")\n",
    "t_stat = stats.ttest_ind(data[\"precision\"][data[\"treatment\"]==\"a\"], data[\"precision\"][data[\"treatment\"]==\"b\"], equal_var = False)[0]\n",
    "p_val = stats.ttest_ind(data[\"precision\"][data[\"treatment\"]==\"a\"], data[\"precision\"][data[\"treatment\"]==\"b\"], equal_var = False)[1]/2\n",
    "print(\"t-stat: \" + str(round(t_stat,3))+ \", P-val: \" + str(round(p_val,4)))"
   ]
  },
  {
   "cell_type": "code",
   "execution_count": 38,
   "outputs": [
    {
     "name": "stdout",
     "output_type": "stream",
     "text": [
      "                            OLS Regression Results                            \n",
      "==============================================================================\n",
      "Dep. Variable:              precision   R-squared:                       0.065\n",
      "Model:                            OLS   Adj. R-squared:                  0.045\n",
      "Method:                 Least Squares   F-statistic:                     3.211\n",
      "Date:                Tue, 16 Apr 2024   Prob (F-statistic):             0.0797\n",
      "Time:                        16:36:54   Log-Likelihood:                -207.58\n",
      "No. Observations:                  48   AIC:                             419.2\n",
      "Df Residuals:                      46   BIC:                             422.9\n",
      "Df Model:                           1                                         \n",
      "Covariance Type:            nonrobust                                         \n",
      "==============================================================================\n",
      "                 coef    std err          t      P>|t|      [0.025      0.975]\n",
      "------------------------------------------------------------------------------\n",
      "const         87.5918      3.980     22.007      0.000      79.580      95.604\n",
      "treatment      9.6906      5.408      1.792      0.080      -1.195      20.577\n",
      "==============================================================================\n",
      "Omnibus:                       35.541   Durbin-Watson:                   1.077\n",
      "Prob(Omnibus):                  0.000   Jarque-Bera (JB):               74.688\n",
      "Skew:                          -2.275   Prob(JB):                     6.05e-17\n",
      "Kurtosis:                       7.079   Cond. No.                         2.73\n",
      "==============================================================================\n",
      "\n",
      "Notes:\n",
      "[1] Standard Errors assume that the covariance matrix of the errors is correctly specified.\n"
     ]
    }
   ],
   "source": [
    "# OLS regression model without control variables\n",
    "X = data.loc[:,[\"treatment\"]]\n",
    "X = X[X[\"treatment\"] != \"c\"]\n",
    "X[\"treatment\"] = np.where(X[\"treatment\"] == \"a\", 0, 1)\n",
    "X = sm.add_constant(X)\n",
    "X = X.astype(float)\n",
    "y = data.loc[:, \"precision\"].astype(float)*100\n",
    "y = y.loc[X.index]\n",
    "model = sm.OLS(y, X)\n",
    "results = model.fit()\n",
    "print(results.summary())"
   ],
   "metadata": {
    "collapsed": false,
    "pycharm": {
     "name": "#%%\n"
    }
   },
   "id": "898a8116f6681f9e"
  },
  {
   "cell_type": "markdown",
   "id": "d8c09813",
   "metadata": {},
   "source": [
    "## Supplement H: Randomization checks"
   ]
  },
  {
   "cell_type": "code",
   "execution_count": 39,
   "id": "bd9a0283",
   "metadata": {},
   "outputs": [
    {
     "name": "stdout",
     "output_type": "stream",
     "text": [
      "age (counts in a): \n",
      "2.0    1\n",
      "3.0    7\n",
      "4.0    8\n",
      "5.0    4\n",
      "6.0    2\n",
      "Name: age, dtype: int64\n",
      "age (counts in b): \n",
      "\n",
      "2.0     1\n",
      "3.0     3\n",
      "4.0     9\n",
      "5.0    12\n",
      "6.0     1\n",
      "Name: age, dtype: int64\n",
      "gender (counts in a): \n",
      "0    16\n",
      "1     6\n",
      "Name: gender, dtype: int64\n",
      "gender (counts in b): \n",
      "0    17\n",
      "1     9\n",
      "Name: gender, dtype: int64\n",
      "education (counts in a): \n",
      "2    9\n",
      "3    4\n",
      "4    2\n",
      "5    3\n",
      "6    3\n",
      "7    1\n",
      "Name: education, dtype: int64\n",
      "education (counts in b): \n",
      "2    14\n",
      "3     2\n",
      "4     3\n",
      "5     3\n",
      "6     3\n",
      "7     1\n",
      "Name: education, dtype: int64\n"
     ]
    }
   ],
   "source": [
    "# Print frequencies for age, gender, education\n",
    "print(\"age (counts in a): \\n\" + str(data[\"age\"][data[\"treatment\"]==\"a\"].value_counts().sort_index()))\n",
    "print(\"age (counts in b): \\n\\n\" + str(data[\"age\"][data[\"treatment\"]==\"b\"].value_counts().sort_index()))\n",
    "print(\"gender (counts in a): \\n\" + str(data[\"gender\"][data[\"treatment\"]==\"a\"].value_counts().sort_index()))\n",
    "print(\"gender (counts in b): \\n\" + str(data[\"gender\"][data[\"treatment\"]==\"b\"].value_counts().sort_index()))\n",
    "print(\"education (counts in a): \\n\" + str(data[\"education\"][data[\"treatment\"]==\"a\"].value_counts().sort_index()))\n",
    "print(\"education (counts in b): \\n\" + str(data[\"education\"][data[\"treatment\"]==\"b\"].value_counts().sort_index()))"
   ]
  },
  {
   "cell_type": "code",
   "execution_count": 40,
   "id": "6b0f8344",
   "metadata": {},
   "outputs": [
    {
     "name": "stdout",
     "output_type": "stream",
     "text": [
      "tenure (mean in a): 11.91\n",
      "tenure (std in a): 8.83\n",
      "tenure (mean in b): 15.38\n",
      "tenure (std in b): 10.42\n"
     ]
    }
   ],
   "source": [
    "# Print mean and standard deviation for tenure\n",
    "print(\"tenure (mean in a): \" + str(round(data[\"tenure\"][data[\"treatment\"]==\"a\"].mean(),2)))\n",
    "print(\"tenure (std in a): \" + str(round(data[\"tenure\"][data[\"treatment\"]==\"a\"].std(),2)))\n",
    "print(\"tenure (mean in b): \" + str(round(data[\"tenure\"][data[\"treatment\"]==\"b\"].mean(),2)))\n",
    "print(\"tenure (std in b): \" + str(round(data[\"tenure\"][data[\"treatment\"]==\"b\"].std(),2)))"
   ]
  },
  {
   "cell_type": "code",
   "execution_count": 41,
   "id": "0149d941",
   "metadata": {},
   "outputs": [
    {
     "name": "stdout",
     "output_type": "stream",
     "text": [
      "age (P-value): 0.223\n",
      "gender (P-value): 0.815\n",
      "education (P-value): 0.897\n",
      "tenure (P-value): 0.217\n"
     ]
    }
   ],
   "source": [
    "# Print P-values for randomization checks\n",
    "print(\"age (P-value): \" + str(round(stats.chi2_contingency(pd.concat([data[\"age\"][data[\"treatment\"]==\"a\"].value_counts(), data[\"age\"][data[\"treatment\"]==\"b\"].value_counts()], axis=1).fillna(0).T)[1],3)))\n",
    "print(\"gender (P-value): \" + str(round(stats.chi2_contingency(pd.concat([data[\"gender\"][data[\"treatment\"]==\"a\"].value_counts(), data[\"gender\"][data[\"treatment\"]==\"b\"].value_counts()], axis=1).fillna(0).T)[1],3)))\n",
    "print(\"education (P-value): \" + str(round(stats.chi2_contingency(pd.concat([data[\"education\"][data[\"treatment\"]==\"a\"].value_counts(), data[\"education\"][data[\"treatment\"]==\"b\"].value_counts()], axis=1).fillna(0).T)[1],3)))\n",
    "print(\"tenure (P-value): \" + str(round(stats.ttest_ind(data[\"tenure\"][data[\"treatment\"]==\"a\"], data[\"tenure\"][data[\"treatment\"]==\"b\"], equal_var=False)[1],3)))"
   ]
  },
  {
   "cell_type": "markdown",
   "id": "cb26f81d",
   "metadata": {},
   "source": [
    "## Supplement I: Regression models"
   ]
  },
  {
   "cell_type": "code",
   "execution_count": 42,
   "id": "a5186684",
   "metadata": {},
   "outputs": [
    {
     "name": "stdout",
     "output_type": "stream",
     "text": [
      "                            OLS Regression Results                            \n",
      "==============================================================================\n",
      "Dep. Variable:      balanced_accuracy   R-squared:                       0.370\n",
      "Model:                            OLS   Adj. R-squared:                  0.295\n",
      "Method:                 Least Squares   F-statistic:                     4.942\n",
      "Date:                Tue, 16 Apr 2024   Prob (F-statistic):            0.00120\n",
      "Time:                        16:36:54   Log-Likelihood:                -158.53\n",
      "No. Observations:                  48   AIC:                             329.1\n",
      "Df Residuals:                      42   BIC:                             340.3\n",
      "Df Model:                           5                                         \n",
      "Covariance Type:            nonrobust                                         \n",
      "==============================================================================\n",
      "                 coef    std err          t      P>|t|      [0.025      0.975]\n",
      "------------------------------------------------------------------------------\n",
      "const         87.5330      5.879     14.890      0.000      75.670      99.396\n",
      "treatment      8.1306      2.087      3.895      0.000       3.918      12.343\n",
      "age           -1.0028      1.334     -0.752      0.456      -3.695       1.690\n",
      "education      1.2364      0.748      1.652      0.106      -0.274       2.747\n",
      "gender        -3.2081      2.662     -1.205      0.235      -8.581       2.164\n",
      "tenure         0.1278      0.129      0.988      0.329      -0.133       0.389\n",
      "==============================================================================\n",
      "Omnibus:                        2.825   Durbin-Watson:                   2.207\n",
      "Prob(Omnibus):                  0.244   Jarque-Bera (JB):                2.687\n",
      "Skew:                          -0.546   Prob(JB):                        0.261\n",
      "Kurtosis:                       2.609   Cond. No.                         104.\n",
      "==============================================================================\n",
      "\n",
      "Notes:\n",
      "[1] Standard Errors assume that the covariance matrix of the errors is correctly specified.\n"
     ]
    }
   ],
   "source": [
    "# OLS regression model (1) for balanced accuracy\n",
    "X = data.loc[:,[\"treatment\", \"age\", \"education\", \"gender\", \"tenure\"]]\n",
    "X[\"treatment\"] = np.where(X[\"treatment\"] == \"a\", 0, 1)\n",
    "X = sm.add_constant(X)\n",
    "X = X.astype(float)\n",
    "y = data.loc[:, \"balanced_accuracy\"].astype(float)*100\n",
    "y = y.loc[X.index]\n",
    "model = sm.OLS(y, X)\n",
    "results = model.fit()\n",
    "print(results.summary())"
   ]
  },
  {
   "cell_type": "code",
   "execution_count": 43,
   "outputs": [
    {
     "data": {
      "text/plain": "0.0003457845929976218"
     },
     "execution_count": 43,
     "metadata": {},
     "output_type": "execute_result"
    }
   ],
   "source": [
    "results.pvalues['treatment']"
   ],
   "metadata": {
    "collapsed": false,
    "pycharm": {
     "name": "#%%\n"
    }
   },
   "id": "ec4a05162b8ffa0c"
  },
  {
   "cell_type": "code",
   "execution_count": 44,
   "id": "46c0dd9c",
   "metadata": {},
   "outputs": [
    {
     "name": "stdout",
     "output_type": "stream",
     "text": [
      "                 Generalized Linear Model Regression Results                  \n",
      "==============================================================================\n",
      "Dep. Variable:      balanced_accuracy   No. Observations:                   48\n",
      "Model:                            GLM   Df Residuals:                       42\n",
      "Model Family:                Binomial   Df Model:                            5\n",
      "Link Function:                  Logit   Scale:                        0.073425\n",
      "Method:                          IRLS   Log-Likelihood:                -8.6884\n",
      "Date:                Tue, 16 Apr 2024   Deviance:                       2.7907\n",
      "Time:                        16:36:54   Pearson chi2:                     3.08\n",
      "No. Iterations:                     8   Pseudo R-squ. (CS):            0.03889\n",
      "Covariance Type:            nonrobust                                         \n",
      "==============================================================================\n",
      "                 coef    std err          z      P>|z|      [0.025      0.975]\n",
      "------------------------------------------------------------------------------\n",
      "const          1.5111      0.912      1.657      0.098      -0.277       3.299\n",
      "treatment      1.2949      0.340      3.807      0.000       0.628       1.962\n",
      "age           -0.1194      0.213     -0.560      0.576      -0.537       0.299\n",
      "education      0.2678      0.135      1.979      0.048       0.003       0.533\n",
      "gender        -0.3496      0.377     -0.926      0.354      -1.089       0.390\n",
      "tenure         0.0222      0.021      1.060      0.289      -0.019       0.063\n",
      "==============================================================================\n"
     ]
    }
   ],
   "source": [
    "# Quasi-binomial regression model (1) for balanced accuracy\n",
    "model = sm.GLM(y/100, X, family=sm.families.Binomial())\n",
    "results = model.fit(scale=\"X2\")\n",
    "print(results.summary())"
   ]
  },
  {
   "cell_type": "code",
   "execution_count": 45,
   "outputs": [
    {
     "data": {
      "text/plain": "0.0001407412468429712"
     },
     "execution_count": 45,
     "metadata": {},
     "output_type": "execute_result"
    }
   ],
   "source": [
    "results.pvalues['treatment']"
   ],
   "metadata": {
    "collapsed": false,
    "pycharm": {
     "name": "#%%\n"
    }
   },
   "id": "e261038add5ab625"
  },
  {
   "cell_type": "code",
   "execution_count": 46,
   "outputs": [
    {
     "name": "stdout",
     "output_type": "stream",
     "text": [
      "                              OLS Regression Results                             \n",
      "=================================================================================\n",
      "Dep. Variable:     defect_detection_rate   R-squared:                       0.251\n",
      "Model:                               OLS   Adj. R-squared:                  0.162\n",
      "Method:                    Least Squares   F-statistic:                     2.817\n",
      "Date:                   Tue, 16 Apr 2024   Prob (F-statistic):             0.0278\n",
      "Time:                           16:36:54   Log-Likelihood:                -186.42\n",
      "No. Observations:                     48   AIC:                             384.8\n",
      "Df Residuals:                         42   BIC:                             396.1\n",
      "Df Model:                              5                                         \n",
      "Covariance Type:               nonrobust                                         \n",
      "==============================================================================\n",
      "                 coef    std err          t      P>|t|      [0.025      0.975]\n",
      "------------------------------------------------------------------------------\n",
      "const         76.6305     10.511      7.290      0.000      55.418      97.843\n",
      "treatment     11.7833      3.732      3.157      0.003       4.252      19.315\n",
      "age           -0.4547      2.386     -0.191      0.850      -5.269       4.360\n",
      "education      2.1119      1.338      1.578      0.122      -0.589       4.813\n",
      "gender        -1.6158      4.760     -0.339      0.736     -11.222       7.991\n",
      "tenure         0.0085      0.231      0.037      0.971      -0.459       0.476\n",
      "==============================================================================\n",
      "Omnibus:                       13.034   Durbin-Watson:                   2.419\n",
      "Prob(Omnibus):                  0.001   Jarque-Bera (JB):               13.665\n",
      "Skew:                          -1.116   Prob(JB):                      0.00108\n",
      "Kurtosis:                       4.360   Cond. No.                         104.\n",
      "==============================================================================\n",
      "\n",
      "Notes:\n",
      "[1] Standard Errors assume that the covariance matrix of the errors is correctly specified.\n"
     ]
    }
   ],
   "source": [
    "# OLS regression model (1) for defect detection rate\n",
    "X = data.loc[:,[\"treatment\", \"age\", \"education\", \"gender\", \"tenure\"]]\n",
    "X[\"treatment\"] = np.where(X[\"treatment\"] == \"a\", 0, 1)\n",
    "X = sm.add_constant(X)\n",
    "X = X.astype(float)\n",
    "y = data.loc[:, \"defect_detection_rate\"].astype(float)*100\n",
    "y = y.loc[X.index]\n",
    "model = sm.OLS(y, X)\n",
    "results = model.fit()\n",
    "print(results.summary())"
   ],
   "metadata": {
    "collapsed": false,
    "pycharm": {
     "name": "#%%\n"
    }
   },
   "id": "bad4b01066a8a2f6"
  },
  {
   "cell_type": "code",
   "execution_count": 47,
   "outputs": [
    {
     "data": {
      "text/plain": "0.002946020831568147"
     },
     "execution_count": 47,
     "metadata": {},
     "output_type": "execute_result"
    }
   ],
   "source": [
    "results.pvalues['treatment']"
   ],
   "metadata": {
    "collapsed": false,
    "pycharm": {
     "name": "#%%\n"
    }
   },
   "id": "eb8759a7cc66c14a"
  },
  {
   "cell_type": "code",
   "execution_count": 48,
   "outputs": [
    {
     "name": "stdout",
     "output_type": "stream",
     "text": [
      "                   Generalized Linear Model Regression Results                   \n",
      "=================================================================================\n",
      "Dep. Variable:     defect_detection_rate   No. Observations:                   48\n",
      "Model:                               GLM   Df Residuals:                       42\n",
      "Model Family:                   Binomial   Df Model:                            5\n",
      "Link Function:                     Logit   Scale:                         0.14454\n",
      "Method:                             IRLS   Log-Likelihood:                -12.459\n",
      "Date:                   Tue, 16 Apr 2024   Deviance:                       5.8521\n",
      "Time:                           16:36:54   Pearson chi2:                     6.07\n",
      "No. Iterations:                        8   Pseudo R-squ. (CS):            0.04463\n",
      "Covariance Type:               nonrobust                                         \n",
      "==============================================================================\n",
      "                 coef    std err          z      P>|z|      [0.025      0.975]\n",
      "------------------------------------------------------------------------------\n",
      "const          0.7835      0.995      0.787      0.431      -1.167       2.734\n",
      "treatment      1.1565      0.369      3.137      0.002       0.434       1.879\n",
      "age           -0.0227      0.230     -0.099      0.921      -0.474       0.429\n",
      "education      0.2484      0.144      1.728      0.084      -0.033       0.530\n",
      "gender        -0.1308      0.424     -0.308      0.758      -0.963       0.701\n",
      "tenure         0.0031      0.022      0.137      0.891      -0.041       0.047\n",
      "==============================================================================\n"
     ]
    }
   ],
   "source": [
    "# Quasi-binomial regression model (1) for defect detection rate\n",
    "model = sm.GLM(y/100, X, family=sm.families.Binomial())\n",
    "results = model.fit(scale=\"X2\")\n",
    "print(results.summary())"
   ],
   "metadata": {
    "collapsed": false,
    "pycharm": {
     "name": "#%%\n"
    }
   },
   "id": "adabb7dab5067fff"
  },
  {
   "cell_type": "code",
   "execution_count": 49,
   "outputs": [
    {
     "data": {
      "text/plain": "0.0017068896352189355"
     },
     "execution_count": 49,
     "metadata": {},
     "output_type": "execute_result"
    }
   ],
   "source": [
    "results.pvalues['treatment']"
   ],
   "metadata": {
    "collapsed": false,
    "pycharm": {
     "name": "#%%\n"
    }
   },
   "id": "d0b06b2eb37bfd"
  },
  {
   "cell_type": "code",
   "execution_count": 50,
   "id": "c4f40b1e",
   "metadata": {},
   "outputs": [
    {
     "name": "stdout",
     "output_type": "stream",
     "text": [
      "                            OLS Regression Results                            \n",
      "==============================================================================\n",
      "Dep. Variable:      balanced_accuracy   R-squared:                       0.403\n",
      "Model:                            OLS   Adj. R-squared:                  0.316\n",
      "Method:                 Least Squares   F-statistic:                     4.616\n",
      "Date:                Tue, 16 Apr 2024   Prob (F-statistic):            0.00115\n",
      "Time:                        16:36:54   Log-Likelihood:                -157.25\n",
      "No. Observations:                  48   AIC:                             328.5\n",
      "Df Residuals:                      41   BIC:                             341.6\n",
      "Df Model:                           6                                         \n",
      "Covariance Type:            nonrobust                                         \n",
      "==============================================================================\n",
      "                 coef    std err          t      P>|t|      [0.025      0.975]\n",
      "------------------------------------------------------------------------------\n",
      "const         82.3475      6.747     12.204      0.000      68.721      95.974\n",
      "treatment      7.5131      2.098      3.581      0.001       3.277      11.750\n",
      "age           -0.6451      1.336     -0.483      0.632      -3.344       2.054\n",
      "education      0.7586      0.804      0.944      0.351      -0.864       2.381\n",
      "gender        -3.3402      2.625     -1.272      0.210      -8.642       1.961\n",
      "tenure         0.1139      0.128      0.890      0.379      -0.145       0.372\n",
      "it_skills      1.9792      1.320      1.499      0.142      -0.687       4.646\n",
      "==============================================================================\n",
      "Omnibus:                        4.739   Durbin-Watson:                   2.218\n",
      "Prob(Omnibus):                  0.094   Jarque-Bera (JB):                4.113\n",
      "Skew:                          -0.716   Prob(JB):                        0.128\n",
      "Kurtosis:                       3.073   Cond. No.                         122.\n",
      "==============================================================================\n",
      "\n",
      "Notes:\n",
      "[1] Standard Errors assume that the covariance matrix of the errors is correctly specified.\n"
     ]
    }
   ],
   "source": [
    "# OLS regression model (2) for balanced accuracy\n",
    "X = data.loc[:,[\"treatment\", \"age\", \"education\", \"gender\", \"tenure\", \"it_skills\"]]\n",
    "X[\"treatment\"] = np.where(X[\"treatment\"] == \"a\", 0, 1)\n",
    "X = sm.add_constant(X)\n",
    "X = X.astype(float)\n",
    "y = data.loc[:, \"balanced_accuracy\"].astype(float)*100\n",
    "y = y.loc[X.index]\n",
    "model = sm.OLS(y, X)\n",
    "results = model.fit()\n",
    "print(results.summary())"
   ]
  },
  {
   "cell_type": "code",
   "execution_count": 51,
   "outputs": [
    {
     "data": {
      "text/plain": "0.0008974898155309641"
     },
     "execution_count": 51,
     "metadata": {},
     "output_type": "execute_result"
    }
   ],
   "source": [
    "results.pvalues['treatment']"
   ],
   "metadata": {
    "collapsed": false,
    "pycharm": {
     "name": "#%%\n"
    }
   },
   "id": "aa738b3f13602d40"
  },
  {
   "cell_type": "code",
   "execution_count": 52,
   "id": "3b6ed54e",
   "metadata": {},
   "outputs": [
    {
     "name": "stdout",
     "output_type": "stream",
     "text": [
      "                 Generalized Linear Model Regression Results                  \n",
      "==============================================================================\n",
      "Dep. Variable:      balanced_accuracy   No. Observations:                   48\n",
      "Model:                            GLM   Df Residuals:                       41\n",
      "Model Family:                Binomial   Df Model:                            6\n",
      "Link Function:                  Logit   Scale:                        0.078040\n",
      "Method:                          IRLS   Log-Likelihood:                -8.6086\n",
      "Date:                Tue, 16 Apr 2024   Deviance:                       2.6311\n",
      "Time:                        16:36:54   Pearson chi2:                     3.20\n",
      "No. Iterations:                     8   Pseudo R-squ. (CS):            0.04208\n",
      "Covariance Type:            nonrobust                                         \n",
      "==============================================================================\n",
      "                 coef    std err          z      P>|z|      [0.025      0.975]\n",
      "------------------------------------------------------------------------------\n",
      "const          0.6982      1.087      0.642      0.521      -1.433       2.829\n",
      "treatment      1.1750      0.358      3.283      0.001       0.474       1.877\n",
      "age           -0.0430      0.226     -0.191      0.849      -0.485       0.399\n",
      "education      0.1691      0.155      1.094      0.274      -0.134       0.472\n",
      "gender        -0.4504      0.392     -1.148      0.251      -1.219       0.318\n",
      "tenure         0.0214      0.022      0.959      0.338      -0.022       0.065\n",
      "it_skills      0.3220      0.227      1.417      0.156      -0.123       0.767\n",
      "==============================================================================\n"
     ]
    }
   ],
   "source": [
    "# Quasi-binomial regression model (2) for balanced accuracy\n",
    "model = sm.GLM(y/100, X, family=sm.families.Binomial())\n",
    "results = model.fit(scale=\"X2\")\n",
    "print(results.summary())"
   ]
  },
  {
   "cell_type": "code",
   "execution_count": 53,
   "outputs": [
    {
     "data": {
      "text/plain": "0.0010274140640594263"
     },
     "execution_count": 53,
     "metadata": {},
     "output_type": "execute_result"
    }
   ],
   "source": [
    "results.pvalues['treatment']"
   ],
   "metadata": {
    "collapsed": false,
    "pycharm": {
     "name": "#%%\n"
    }
   },
   "id": "353c863422ba13fc"
  },
  {
   "cell_type": "code",
   "execution_count": 54,
   "outputs": [
    {
     "name": "stdout",
     "output_type": "stream",
     "text": [
      "                              OLS Regression Results                             \n",
      "=================================================================================\n",
      "Dep. Variable:     defect_detection_rate   R-squared:                       0.275\n",
      "Model:                               OLS   Adj. R-squared:                  0.169\n",
      "Method:                    Least Squares   F-statistic:                     2.595\n",
      "Date:                   Tue, 16 Apr 2024   Prob (F-statistic):             0.0318\n",
      "Time:                           16:36:54   Log-Likelihood:                -185.64\n",
      "No. Observations:                     48   AIC:                             385.3\n",
      "Df Residuals:                         41   BIC:                             398.4\n",
      "Df Model:                              6                                         \n",
      "Covariance Type:               nonrobust                                         \n",
      "==============================================================================\n",
      "                 coef    std err          t      P>|t|      [0.025      0.975]\n",
      "------------------------------------------------------------------------------\n",
      "const         69.3306     12.190      5.688      0.000      44.713      93.948\n",
      "treatment     10.9140      3.790      2.880      0.006       3.260      18.568\n",
      "age            0.0489      2.414      0.020      0.984      -4.827       4.925\n",
      "education      1.4392      1.452      0.991      0.327      -1.493       4.371\n",
      "gender        -1.8019      4.742     -0.380      0.706     -11.379       7.775\n",
      "tenure        -0.0112      0.231     -0.049      0.962      -0.478       0.456\n",
      "it_skills      2.7862      2.385      1.168      0.250      -2.031       7.603\n",
      "==============================================================================\n",
      "Omnibus:                       18.730   Durbin-Watson:                   2.420\n",
      "Prob(Omnibus):                  0.000   Jarque-Bera (JB):               24.818\n",
      "Skew:                          -1.345   Prob(JB):                     4.08e-06\n",
      "Kurtosis:                       5.274   Cond. No.                         122.\n",
      "==============================================================================\n",
      "\n",
      "Notes:\n",
      "[1] Standard Errors assume that the covariance matrix of the errors is correctly specified.\n"
     ]
    }
   ],
   "source": [
    "# OLS regression model (2) for defect detection rate\n",
    "X = data.loc[:,[\"treatment\", \"age\", \"education\", \"gender\", \"tenure\", \"it_skills\"]]\n",
    "X[\"treatment\"] = np.where(X[\"treatment\"] == \"a\", 0, 1)\n",
    "X = sm.add_constant(X)\n",
    "X = X.astype(float)\n",
    "y = data.loc[:, \"defect_detection_rate\"].astype(float)*100\n",
    "y = y.loc[X.index]\n",
    "model = sm.OLS(y, X)\n",
    "results = model.fit()\n",
    "print(results.summary())"
   ],
   "metadata": {
    "collapsed": false,
    "pycharm": {
     "name": "#%%\n"
    }
   },
   "id": "630b3ef81ea4354a"
  },
  {
   "cell_type": "code",
   "execution_count": 55,
   "outputs": [
    {
     "data": {
      "text/plain": "0.006298551813077665"
     },
     "execution_count": 55,
     "metadata": {},
     "output_type": "execute_result"
    }
   ],
   "source": [
    "results.pvalues['treatment']"
   ],
   "metadata": {
    "collapsed": false,
    "pycharm": {
     "name": "#%%\n"
    }
   },
   "id": "93de587105b278cf"
  },
  {
   "cell_type": "code",
   "execution_count": 56,
   "outputs": [
    {
     "name": "stdout",
     "output_type": "stream",
     "text": [
      "                   Generalized Linear Model Regression Results                   \n",
      "=================================================================================\n",
      "Dep. Variable:     defect_detection_rate   No. Observations:                   48\n",
      "Model:                               GLM   Df Residuals:                       41\n",
      "Model Family:                   Binomial   Df Model:                            6\n",
      "Link Function:                     Logit   Scale:                         0.15179\n",
      "Method:                             IRLS   Log-Likelihood:                -12.371\n",
      "Date:                   Tue, 16 Apr 2024   Deviance:                       5.6766\n",
      "Time:                           16:36:54   Pearson chi2:                     6.22\n",
      "No. Iterations:                        8   Pseudo R-squ. (CS):            0.04812\n",
      "Covariance Type:               nonrobust                                         \n",
      "==============================================================================\n",
      "                 coef    std err          z      P>|z|      [0.025      0.975]\n",
      "------------------------------------------------------------------------------\n",
      "const          0.0887      1.199      0.074      0.941      -2.262       2.439\n",
      "treatment      1.0595      0.386      2.745      0.006       0.303       1.816\n",
      "age            0.0460      0.244      0.189      0.850      -0.432       0.524\n",
      "education      0.1688      0.164      1.030      0.303      -0.152       0.490\n",
      "gender        -0.2053      0.439     -0.468      0.640      -1.066       0.655\n",
      "tenure         0.0016      0.024      0.068      0.946      -0.044       0.048\n",
      "it_skills      0.2641      0.247      1.068      0.285      -0.220       0.749\n",
      "==============================================================================\n"
     ]
    }
   ],
   "source": [
    "# Quasi-binomial regression model (2) for defect detection rate\n",
    "model = sm.GLM(y/100, X, family=sm.families.Binomial())\n",
    "results = model.fit(scale=\"X2\")\n",
    "print(results.summary())"
   ],
   "metadata": {
    "collapsed": false,
    "pycharm": {
     "name": "#%%\n"
    }
   },
   "id": "a534572d5397600e"
  },
  {
   "cell_type": "code",
   "execution_count": 57,
   "outputs": [
    {
     "data": {
      "text/plain": "0.006049439593071739"
     },
     "execution_count": 57,
     "metadata": {},
     "output_type": "execute_result"
    }
   ],
   "source": [
    "results.pvalues['treatment']"
   ],
   "metadata": {
    "collapsed": false,
    "pycharm": {
     "name": "#%%\n"
    }
   },
   "id": "745efb49aa2eb8af"
  },
  {
   "cell_type": "code",
   "execution_count": 58,
   "id": "95a8c5de",
   "metadata": {},
   "outputs": [
    {
     "name": "stdout",
     "output_type": "stream",
     "text": [
      "                            OLS Regression Results                            \n",
      "==============================================================================\n",
      "Dep. Variable:      balanced_accuracy   R-squared:                       0.407\n",
      "Model:                            OLS   Adj. R-squared:                  0.303\n",
      "Method:                 Least Squares   F-statistic:                     3.921\n",
      "Date:                Tue, 16 Apr 2024   Prob (F-statistic):            0.00242\n",
      "Time:                        16:36:54   Log-Likelihood:                -157.10\n",
      "No. Observations:                  48   AIC:                             330.2\n",
      "Df Residuals:                      40   BIC:                             345.2\n",
      "Df Model:                           7                                         \n",
      "Covariance Type:            nonrobust                                         \n",
      "=========================================================================================\n",
      "                            coef    std err          t      P>|t|      [0.025      0.975]\n",
      "-----------------------------------------------------------------------------------------\n",
      "const                    80.4487      7.772     10.352      0.000      64.742      96.156\n",
      "treatment                 7.5084      2.117      3.547      0.001       3.230      11.787\n",
      "age                      -0.6939      1.352     -0.513      0.611      -3.427       2.039\n",
      "education                 0.6794      0.826      0.823      0.416      -0.990       2.348\n",
      "gender                   -3.3227      2.649     -1.254      0.217      -8.677       2.032\n",
      "tenure                    0.1204      0.130      0.928      0.359      -0.142       0.383\n",
      "it_skills                 2.1202      1.361      1.558      0.127      -0.631       4.871\n",
      "median_decision_speed     0.3766      0.743      0.507      0.615      -1.125       1.878\n",
      "==============================================================================\n",
      "Omnibus:                        3.906   Durbin-Watson:                   2.202\n",
      "Prob(Omnibus):                  0.142   Jarque-Bera (JB):                3.358\n",
      "Skew:                          -0.648   Prob(JB):                        0.187\n",
      "Kurtosis:                       3.000   Cond. No.                         142.\n",
      "==============================================================================\n",
      "\n",
      "Notes:\n",
      "[1] Standard Errors assume that the covariance matrix of the errors is correctly specified.\n"
     ]
    }
   ],
   "source": [
    "# OLS regression model (3) for balanced accuracy\n",
    "X = data.loc[:,[\"treatment\", \"age\", \"education\", \"gender\", \"tenure\", \"it_skills\", \"median_decision_speed\"]]\n",
    "X[\"treatment\"] = np.where(X[\"treatment\"] == \"a\", 0, 1)\n",
    "X = sm.add_constant(X)\n",
    "X = X.astype(float)\n",
    "y = data.loc[:, \"balanced_accuracy\"].astype(float)*100\n",
    "y = y.loc[X.index]\n",
    "model = sm.OLS(y, X)\n",
    "results = model.fit()\n",
    "print(results.summary())"
   ]
  },
  {
   "cell_type": "code",
   "execution_count": 59,
   "outputs": [
    {
     "data": {
      "text/plain": "0.0010126550559295495"
     },
     "execution_count": 59,
     "metadata": {},
     "output_type": "execute_result"
    }
   ],
   "source": [
    "results.pvalues['treatment']"
   ],
   "metadata": {
    "collapsed": false,
    "pycharm": {
     "name": "#%%\n"
    }
   },
   "id": "38fa5e32a4383a7b"
  },
  {
   "cell_type": "code",
   "execution_count": 60,
   "id": "a2edc74d",
   "metadata": {},
   "outputs": [
    {
     "name": "stdout",
     "output_type": "stream",
     "text": [
      "                 Generalized Linear Model Regression Results                  \n",
      "==============================================================================\n",
      "Dep. Variable:      balanced_accuracy   No. Observations:                   48\n",
      "Model:                            GLM   Df Residuals:                       40\n",
      "Model Family:                Binomial   Df Model:                            7\n",
      "Link Function:                  Logit   Scale:                        0.077438\n",
      "Method:                          IRLS   Log-Likelihood:                -8.5856\n",
      "Date:                Tue, 16 Apr 2024   Deviance:                       2.5852\n",
      "Time:                        16:36:54   Pearson chi2:                     3.10\n",
      "No. Iterations:                     8   Pseudo R-squ. (CS):            0.04300\n",
      "Covariance Type:            nonrobust                                         \n",
      "=========================================================================================\n",
      "                            coef    std err          z      P>|z|      [0.025      0.975]\n",
      "-----------------------------------------------------------------------------------------\n",
      "const                     0.1663      1.276      0.130      0.896      -2.335       2.668\n",
      "treatment                 1.1840      0.357      3.312      0.001       0.483       1.885\n",
      "age                      -0.0360      0.224     -0.161      0.872      -0.474       0.402\n",
      "education                 0.1389      0.159      0.876      0.381      -0.172       0.450\n",
      "gender                   -0.5100      0.400     -1.275      0.202      -1.294       0.274\n",
      "tenure                    0.0226      0.022      1.019      0.308      -0.021       0.066\n",
      "it_skills                 0.3715      0.239      1.555      0.120      -0.097       0.840\n",
      "median_decision_speed     0.0948      0.125      0.761      0.446      -0.149       0.339\n",
      "=========================================================================================\n"
     ]
    }
   ],
   "source": [
    "# Quasi-binomial regression model (3) for balanced accuracy\n",
    "model = sm.GLM(y/100, X, family=sm.families.Binomial())\n",
    "results = model.fit(scale=\"X2\")\n",
    "print(results.summary())"
   ]
  },
  {
   "cell_type": "code",
   "execution_count": 61,
   "outputs": [
    {
     "data": {
      "text/plain": "0.0009250580802498776"
     },
     "execution_count": 61,
     "metadata": {},
     "output_type": "execute_result"
    }
   ],
   "source": [
    "results.pvalues['treatment']"
   ],
   "metadata": {
    "collapsed": false,
    "pycharm": {
     "name": "#%%\n"
    }
   },
   "id": "fe1799571056ac46"
  },
  {
   "cell_type": "code",
   "execution_count": 62,
   "outputs": [
    {
     "name": "stdout",
     "output_type": "stream",
     "text": [
      "                              OLS Regression Results                             \n",
      "=================================================================================\n",
      "Dep. Variable:     defect_detection_rate   R-squared:                       0.320\n",
      "Model:                               OLS   Adj. R-squared:                  0.201\n",
      "Method:                    Least Squares   F-statistic:                     2.689\n",
      "Date:                   Tue, 16 Apr 2024   Prob (F-statistic):             0.0222\n",
      "Time:                           16:36:54   Log-Likelihood:                -184.11\n",
      "No. Observations:                     48   AIC:                             384.2\n",
      "Df Residuals:                         40   BIC:                             399.2\n",
      "Df Model:                              7                                         \n",
      "Covariance Type:               nonrobust                                         \n",
      "=========================================================================================\n",
      "                            coef    std err          t      P>|t|      [0.025      0.975]\n",
      "-----------------------------------------------------------------------------------------\n",
      "const                    58.6599     13.643      4.300      0.000      31.086      86.234\n",
      "treatment                10.8878      3.717      2.930      0.006       3.376      18.399\n",
      "age                      -0.2256      2.374     -0.095      0.925      -5.023       4.572\n",
      "education                 0.9945      1.450      0.686      0.497      -1.936       3.925\n",
      "gender                   -1.7033      4.651     -0.366      0.716     -11.103       7.697\n",
      "tenure                    0.0253      0.228      0.111      0.912      -0.435       0.486\n",
      "it_skills                 3.5784      2.390      1.498      0.142      -1.251       8.408\n",
      "median_decision_speed     2.1164      1.304      1.623      0.112      -0.519       4.752\n",
      "==============================================================================\n",
      "Omnibus:                       17.132   Durbin-Watson:                   2.439\n",
      "Prob(Omnibus):                  0.000   Jarque-Bera (JB):               22.056\n",
      "Skew:                          -1.236   Prob(JB):                     1.62e-05\n",
      "Kurtosis:                       5.217   Cond. No.                         142.\n",
      "==============================================================================\n",
      "\n",
      "Notes:\n",
      "[1] Standard Errors assume that the covariance matrix of the errors is correctly specified.\n"
     ]
    }
   ],
   "source": [
    "# OLS regression model (3) for defect detection rate\n",
    "X = data.loc[:,[\"treatment\", \"age\", \"education\", \"gender\", \"tenure\", \"it_skills\", \"median_decision_speed\"]]\n",
    "X[\"treatment\"] = np.where(X[\"treatment\"] == \"a\", 0, 1)\n",
    "X = sm.add_constant(X)\n",
    "X = X.astype(float)\n",
    "y = data.loc[:, \"defect_detection_rate\"].astype(float)*100\n",
    "y = y.loc[X.index]\n",
    "model = sm.OLS(y, X)\n",
    "results = model.fit()\n",
    "print(results.summary())"
   ],
   "metadata": {
    "collapsed": false,
    "pycharm": {
     "name": "#%%\n"
    }
   },
   "id": "79cdb48d334db69"
  },
  {
   "cell_type": "code",
   "execution_count": 63,
   "outputs": [
    {
     "data": {
      "text/plain": "0.005583170488844244"
     },
     "execution_count": 63,
     "metadata": {},
     "output_type": "execute_result"
    }
   ],
   "source": [
    "results.pvalues['treatment']"
   ],
   "metadata": {
    "collapsed": false,
    "pycharm": {
     "name": "#%%\n"
    }
   },
   "id": "a0862f753c7b5f7"
  },
  {
   "cell_type": "code",
   "execution_count": 64,
   "outputs": [
    {
     "name": "stdout",
     "output_type": "stream",
     "text": [
      "                   Generalized Linear Model Regression Results                   \n",
      "=================================================================================\n",
      "Dep. Variable:     defect_detection_rate   No. Observations:                   48\n",
      "Model:                               GLM   Df Residuals:                       40\n",
      "Model Family:                   Binomial   Df Model:                            7\n",
      "Link Function:                     Logit   Scale:                         0.13927\n",
      "Method:                             IRLS   Log-Likelihood:                -12.129\n",
      "Date:                   Tue, 16 Apr 2024   Deviance:                       5.1921\n",
      "Time:                           16:36:54   Pearson chi2:                     5.57\n",
      "No. Iterations:                        8   Pseudo R-squ. (CS):            0.05768\n",
      "Covariance Type:               nonrobust                                         \n",
      "=========================================================================================\n",
      "                            coef    std err          z      P>|z|      [0.025      0.975]\n",
      "-----------------------------------------------------------------------------------------\n",
      "const                    -1.2679      1.353     -0.937      0.349      -3.919       1.384\n",
      "treatment                 1.0888      0.375      2.901      0.004       0.353       1.824\n",
      "age                       0.0487      0.232      0.210      0.834      -0.406       0.503\n",
      "education                 0.1078      0.162      0.667      0.505      -0.209       0.425\n",
      "gender                   -0.2996      0.431     -0.695      0.487      -1.144       0.545\n",
      "tenure                    0.0046      0.022      0.209      0.835      -0.039       0.048\n",
      "it_skills                 0.3765      0.255      1.478      0.140      -0.123       0.876\n",
      "median_decision_speed     0.2512      0.139      1.801      0.072      -0.022       0.525\n",
      "=========================================================================================\n"
     ]
    }
   ],
   "source": [
    "# Quasi-binomial regression model (3) for defect detection rate\n",
    "model = sm.GLM(y/100, X, family=sm.families.Binomial())\n",
    "results = model.fit(scale=\"X2\")\n",
    "print(results.summary())"
   ],
   "metadata": {
    "collapsed": false,
    "pycharm": {
     "name": "#%%\n"
    }
   },
   "id": "2d5fcc6165d7f90d"
  },
  {
   "cell_type": "code",
   "execution_count": 65,
   "outputs": [
    {
     "data": {
      "text/plain": "0.003717730238497247"
     },
     "execution_count": 65,
     "metadata": {},
     "output_type": "execute_result"
    }
   ],
   "source": [
    "results.pvalues['treatment']"
   ],
   "metadata": {
    "collapsed": false,
    "pycharm": {
     "name": "#%%\n"
    }
   },
   "id": "cc500169b2587ba4"
  },
  {
   "cell_type": "markdown",
   "id": "93b28eb1",
   "metadata": {},
   "source": [
    "## Supplement J: Analysis with excluded participants"
   ]
  },
  {
   "cell_type": "markdown",
   "source": [
    "#### Get numbers of excluded participants per treatment arm"
   ],
   "metadata": {
    "collapsed": false,
    "pycharm": {
     "name": "#%% md\n"
    }
   },
   "id": "68c09047b16bd888"
  },
  {
   "cell_type": "code",
   "execution_count": 22,
   "outputs": [],
   "source": [
    "# Import study data (excluding dropouts)\n",
    "data = pd.read_csv(\"data_study_02.csv\")"
   ],
   "metadata": {
    "collapsed": false,
    "pycharm": {
     "name": "#%%\n"
    }
   },
   "id": "35182e155d0dd7ce"
  },
  {
   "cell_type": "code",
   "execution_count": 23,
   "outputs": [],
   "source": [
    "# Rename treatment arms to \"a\" and \"b\"\n",
    "data[\"treatment\"][data[\"treatment\"]==\"human_with_black-box_AI\"] = \"a\"\n",
    "data[\"treatment\"][data[\"treatment\"]==\"human_with_explainable_AI\"] = \"b\""
   ],
   "metadata": {
    "collapsed": false,
    "pycharm": {
     "name": "#%%\n"
    }
   },
   "id": "435d5c5b43549493"
  },
  {
   "cell_type": "code",
   "execution_count": 24,
   "outputs": [
    {
     "data": {
      "text/plain": "a    5\nb    1\nName: treatment, dtype: int64"
     },
     "execution_count": 24,
     "metadata": {},
     "output_type": "execute_result"
    }
   ],
   "source": [
    "data[data[\"completed_images\"] != 200][\"treatment\"].value_counts()"
   ],
   "metadata": {
    "collapsed": false,
    "pycharm": {
     "name": "#%%\n"
    }
   },
   "id": "9039b758aa9fbef4"
  },
  {
   "cell_type": "code",
   "execution_count": 25,
   "outputs": [],
   "source": [
    "data = data[data[\"completed_images\"] == 200].copy()"
   ],
   "metadata": {
    "collapsed": false,
    "pycharm": {
     "name": "#%%\n"
    }
   },
   "id": "ae534da3516dbe9e"
  },
  {
   "cell_type": "code",
   "execution_count": 26,
   "outputs": [
    {
     "data": {
      "text/plain": "a    1\nName: treatment, dtype: int64"
     },
     "execution_count": 26,
     "metadata": {},
     "output_type": "execute_result"
    }
   ],
   "source": [
    "data[data[\"defect_detection_rate\"] == 0][\"treatment\"].value_counts()"
   ],
   "metadata": {
    "collapsed": false,
    "pycharm": {
     "name": "#%%\n"
    }
   },
   "id": "b5245bfe9d8ba618"
  },
  {
   "cell_type": "code",
   "execution_count": 27,
   "outputs": [],
   "source": [
    "data = data[data[\"defect_detection_rate\"] != 0].copy()"
   ],
   "metadata": {
    "collapsed": false,
    "pycharm": {
     "name": "#%%\n"
    }
   },
   "id": "bde64a0696e2cd27"
  },
  {
   "cell_type": "code",
   "execution_count": 28,
   "outputs": [
    {
     "data": {
      "text/plain": "b    27\na    22\nName: treatment, dtype: int64"
     },
     "execution_count": 28,
     "metadata": {},
     "output_type": "execute_result"
    }
   ],
   "source": [
    "data[\"treatment\"].value_counts()"
   ],
   "metadata": {
    "collapsed": false,
    "pycharm": {
     "name": "#%%\n"
    }
   },
   "id": "c21abfb4f75aa54b"
  },
  {
   "cell_type": "code",
   "execution_count": 29,
   "outputs": [],
   "source": [
    "# Remove participants whose performance was more than three standard deviations worse than the mean of their respective treatment arm\n",
    "cutoff_a = data[\"balanced_accuracy\"][data[\"treatment\"] == \"a\"].mean() - 3 * data[\"balanced_accuracy\"][\n",
    "    data[\"treatment\"] == \"a\"].std()\n",
    "cutoff_b = data[\"balanced_accuracy\"][data[\"treatment\"] == \"b\"].mean() - 3 * data[\"balanced_accuracy\"][\n",
    "    data[\"treatment\"] == \"b\"].std()\n",
    "data = data[~((data[\"treatment\"] == \"a\") & (data[\"balanced_accuracy\"] < cutoff_a))]\n",
    "data = data[~((data[\"treatment\"] == \"b\") & (data[\"balanced_accuracy\"] < cutoff_b))]"
   ],
   "metadata": {
    "collapsed": false,
    "pycharm": {
     "name": "#%%\n"
    }
   },
   "id": "5efde2a9a4bf78ac"
  },
  {
   "cell_type": "code",
   "execution_count": 30,
   "outputs": [
    {
     "data": {
      "text/plain": "b    26\na    22\nName: treatment, dtype: int64"
     },
     "execution_count": 30,
     "metadata": {},
     "output_type": "execute_result"
    }
   ],
   "source": [
    "data[\"treatment\"].value_counts()"
   ],
   "metadata": {
    "collapsed": false,
    "pycharm": {
     "name": "#%%\n"
    }
   },
   "id": "6ebd6ade998a4407"
  },
  {
   "cell_type": "markdown",
   "source": [
    "#### Perform OLS with all combinations of exclusion criteria"
   ],
   "metadata": {
    "collapsed": false
   },
   "id": "d943c48d44af1d33"
  },
  {
   "cell_type": "code",
   "execution_count": 31,
   "outputs": [],
   "source": [
    "from itertools import combinations"
   ],
   "metadata": {
    "collapsed": false,
    "pycharm": {
     "name": "#%%\n"
    }
   },
   "id": "e2c89cbea9768ec6"
  },
  {
   "cell_type": "code",
   "execution_count": 32,
   "outputs": [],
   "source": [
    "# Import study data (excluding dropouts)\n",
    "data = pd.read_csv(\"data_study_02.csv\")"
   ],
   "metadata": {
    "collapsed": false,
    "pycharm": {
     "name": "#%%\n"
    }
   },
   "id": "330c69f094e7fb11"
  },
  {
   "cell_type": "code",
   "execution_count": 33,
   "outputs": [],
   "source": [
    "# Rename treatment arms to \"a\" and \"b\"\n",
    "data[\"treatment\"][data[\"treatment\"]==\"human_with_black-box_AI\"] = \"a\"\n",
    "data[\"treatment\"][data[\"treatment\"]==\"human_with_explainable_AI\"] = \"b\""
   ],
   "metadata": {
    "collapsed": false,
    "pycharm": {
     "name": "#%%\n"
    }
   },
   "id": "c6c925e8beec676a"
  },
  {
   "cell_type": "code",
   "execution_count": 34,
   "outputs": [],
   "source": [
    "data[\"time-out\"] = data[\"completed_images\"] != 200"
   ],
   "metadata": {
    "collapsed": false,
    "pycharm": {
     "name": "#%%\n"
    }
   },
   "id": "a5b6835038debaa"
  },
  {
   "cell_type": "code",
   "execution_count": 35,
   "outputs": [],
   "source": [
    "data[\"single_label\"] = data[\"defect_detection_rate\"] == 0"
   ],
   "metadata": {
    "collapsed": false,
    "pycharm": {
     "name": "#%%\n"
    }
   },
   "id": "e70a4145ccab2a80"
  },
  {
   "cell_type": "code",
   "execution_count": 36,
   "outputs": [],
   "source": [
    "data[\"worse_3sds\"] = ((data[\"treatment\"] == \"a\") & (data[\"balanced_accuracy\"] < cutoff_a)) | ((data[\"treatment\"] == \"b\") & (data[\"balanced_accuracy\"] < cutoff_b))"
   ],
   "metadata": {
    "collapsed": false,
    "pycharm": {
     "name": "#%%\n"
    }
   },
   "id": "586324d975ebed32"
  },
  {
   "cell_type": "code",
   "execution_count": 37,
   "outputs": [],
   "source": [
    "excl_criteria = ['time-out', 'single_label', 'worse_3sds']"
   ],
   "metadata": {
    "collapsed": false,
    "pycharm": {
     "name": "#%%\n"
    }
   },
   "id": "5991f80e42414b29"
  },
  {
   "cell_type": "code",
   "execution_count": 38,
   "outputs": [],
   "source": [
    "list_combinations = list()\n",
    "\n",
    "for n in range(len(excl_criteria)):\n",
    "    list_combinations += list(combinations(excl_criteria, n))"
   ],
   "metadata": {
    "collapsed": false,
    "pycharm": {
     "name": "#%%\n"
    }
   },
   "id": "6b0b9849b8fbc428"
  },
  {
   "cell_type": "code",
   "execution_count": 48,
   "outputs": [],
   "source": [
    "results_df = pd.DataFrame(data=None, index=[str(i) for i in range(1, 8)])\n",
    "results_df['time-out'] = [\"\\\\xmark\", \"\\\\cmark\", \"\\\\xmark\", \"\\\\xmark\", \"\\\\cmark\", \"\\\\cmark\", \"\\\\xmark\"]\n",
    "results_df['single_label'] = [\"\\\\xmark\", \"\\\\xmark\", \"\\\\cmark\", \"\\\\xmark\", \"\\\\cmark\", \"\\\\xmark\", \"\\\\cmark\"]\n",
    "results_df['worse_3sds'] = [\"\\\\xmark\", \"\\\\xmark\", \"\\\\xmark\", \"\\\\cmark\", \"\\\\xmark\", \"\\\\cmark\", \"\\\\cmark\"]\n",
    "for metric in [\"balanced_accuracy\", \"defect_detection_rate\"]:\n",
    "    results_df.loc[:, \"Observations\"] = np.nan\n",
    "    results_df.loc[:, metric] = np.nan\n",
    "for metric in [\"balanced_accuracy\", \"defect_detection_rate\"]:\n",
    "    for sample_id, combination in enumerate(list_combinations):\n",
    "        data_sub = data.copy()\n",
    "        for criterion in combination:\n",
    "            data_sub = data_sub[~data_sub[criterion]].copy()\n",
    "        results_df.loc[str(int(sample_id+1)), \"Observations\"] = len(data_sub)\n",
    "        #print(\"Model:\", model_id+1)\n",
    "        X = data_sub.loc[:, [\"treatment\"]]\n",
    "        X[\"treatment\"] = np.where(X[\"treatment\"] == \"a\", 0, 1)\n",
    "        X = sm.add_constant(X)\n",
    "        X = X.astype(float)\n",
    "        y = data_sub.loc[:, metric].astype(float)*100\n",
    "        y = y.loc[X.index]\n",
    "        model = sm.OLS(y, X)\n",
    "        results = model.fit()\n",
    "        #print(\"Coef:\", np.round(results.params[\"treatment\"], 3), \"se:\", np.round(results.bse[\"treatment\"], 3), \"p:\", np.round(results.pvalues[\"treatment\"], 5))\n",
    "        if results.pvalues[\"treatment\"] < 0.001:\n",
    "            ast = \"***\"\n",
    "        elif results.pvalues[\"treatment\"] < 0.01:\n",
    "            ast = \"**\"\n",
    "        elif results.pvalues[\"treatment\"] < 0.05:\n",
    "            ast = \"*\"\n",
    "        else:\n",
    "            ast = \"\"\n",
    "        results_df.loc[str(int(sample_id+1)), metric] = \"{:.3f}\".format(np.round(results.params[\"treatment\"], 3))+ast + \" \" + \"({:.3f})\".format(np.round(results.bse[\"treatment\"], 3))\n",
    "results_df[\"Observations\"] = results_df[\"Observations\"].astype(int)"
   ],
   "metadata": {
    "collapsed": false,
    "pycharm": {
     "name": "#%%\n"
    }
   },
   "id": "27021f140e36938"
  },
  {
   "cell_type": "code",
   "execution_count": 50,
   "outputs": [
    {
     "name": "stdout",
     "output_type": "stream",
     "text": [
      "\\begin{tabular}{lllrll}\n",
      "\\toprule\n",
      "time-out & single_label & worse_3sds &  Observations & balanced_accuracy & defect_detection_rate \\\\\n",
      "\\midrule\n",
      "  \\xmark &       \\xmark &     \\xmark &            56 &   8.143** (2.754) &       11.590* (4.965) \\\\\n",
      "  \\cmark &       \\xmark &     \\xmark &            50 &    7.944* (3.016) &       12.192* (5.472) \\\\\n",
      "  \\xmark &       \\cmark &     \\xmark &            55 &   6.769** (2.432) &        8.651* (4.077) \\\\\n",
      "  \\xmark &       \\xmark &     \\cmark &            54 &  8.120*** (2.042) &      10.961** (3.391) \\\\\n",
      "  \\cmark &       \\cmark &     \\xmark &            49 &    6.253* (2.642) &         8.628 (4.477) \\\\\n",
      "  \\cmark &       \\xmark &     \\cmark &            48 &   7.653** (2.178) &      11.014** (3.680) \\\\\n",
      "  \\xmark &       \\cmark &     \\cmark &            54 &  8.120*** (2.042) &      10.961** (3.391) \\\\\n",
      "\\bottomrule\n",
      "\\end{tabular}\n",
      "\n"
     ]
    }
   ],
   "source": [
    "print(results_df.to_latex(escape=False, index=False))"
   ],
   "metadata": {
    "collapsed": false,
    "pycharm": {
     "name": "#%%\n"
    }
   },
   "id": "4d087388cd3a0a73"
  },
  {
   "cell_type": "markdown",
   "source": [
    "#### Perform OLS with all combinations of exclusion criteria (old)"
   ],
   "metadata": {
    "collapsed": false,
    "pycharm": {
     "name": "#%% md\n"
    }
   },
   "id": "c21865c6e08935b7"
  },
  {
   "cell_type": "code",
   "execution_count": 75,
   "outputs": [],
   "source": [
    "from itertools import combinations"
   ],
   "metadata": {
    "collapsed": false,
    "pycharm": {
     "name": "#%%\n"
    }
   },
   "id": "4916107f69749804"
  },
  {
   "cell_type": "code",
   "execution_count": 76,
   "id": "a3e8d7ef",
   "metadata": {},
   "outputs": [],
   "source": [
    "# Import study data (excluding dropouts)\n",
    "data = pd.read_csv(\"data_study_02.csv\")"
   ]
  },
  {
   "cell_type": "code",
   "execution_count": 77,
   "id": "7f32c10f",
   "metadata": {},
   "outputs": [],
   "source": [
    "# Rename treatment arms to \"a\" and \"b\"\n",
    "data[\"treatment\"][data[\"treatment\"]==\"human_with_black-box_AI\"] = \"a\"\n",
    "data[\"treatment\"][data[\"treatment\"]==\"human_with_explainable_AI\"] = \"b\""
   ]
  },
  {
   "cell_type": "code",
   "execution_count": 78,
   "outputs": [],
   "source": [
    "data[\"time-out\"] = data[\"completed_images\"] != 200"
   ],
   "metadata": {
    "collapsed": false,
    "pycharm": {
     "name": "#%%\n"
    }
   },
   "id": "d3c2e95dcc7eb2f8"
  },
  {
   "cell_type": "code",
   "execution_count": 79,
   "outputs": [],
   "source": [
    "data[\"single_label\"] = data[\"defect_detection_rate\"] == 0"
   ],
   "metadata": {
    "collapsed": false,
    "pycharm": {
     "name": "#%%\n"
    }
   },
   "id": "848310562c6184bc"
  },
  {
   "cell_type": "code",
   "execution_count": 80,
   "outputs": [],
   "source": [
    "data[\"worse_3sds\"] = ((data[\"treatment\"] == \"a\") & (data[\"balanced_accuracy\"] < cutoff_a)) | ((data[\"treatment\"] == \"b\") & (data[\"balanced_accuracy\"] < cutoff_b))"
   ],
   "metadata": {
    "collapsed": false,
    "pycharm": {
     "name": "#%%\n"
    }
   },
   "id": "a151406ba557b947"
  },
  {
   "cell_type": "code",
   "execution_count": 81,
   "outputs": [],
   "source": [
    "excl_criteria = ['time-out', 'single_label', 'worse_3sds']"
   ],
   "metadata": {
    "collapsed": false,
    "pycharm": {
     "name": "#%%\n"
    }
   },
   "id": "6c9c28b8a468f1b8"
  },
  {
   "cell_type": "code",
   "execution_count": 82,
   "outputs": [],
   "source": [
    "list_combinations = list()\n",
    "\n",
    "for n in range(len(excl_criteria)):\n",
    "    list_combinations += list(combinations(excl_criteria, n))"
   ],
   "metadata": {
    "collapsed": false,
    "pycharm": {
     "name": "#%%\n"
    }
   },
   "id": "a7f710f70bb0b59"
  },
  {
   "cell_type": "code",
   "execution_count": 83,
   "outputs": [],
   "source": [
    "covariates1 = [\"treatment\", \"age\", \"education\", \"gender\", \"tenure\"]\n",
    "covariates2 = [\"treatment\", \"age\", \"education\", \"gender\", \"tenure\", \"it_skills\"]\n",
    "covariates3 = [\"treatment\", \"age\", \"education\", \"gender\", \"tenure\", \"it_skills\", \"median_decision_speed\"]"
   ],
   "metadata": {
    "collapsed": false,
    "pycharm": {
     "name": "#%%\n"
    }
   },
   "id": "64a92f5e136da7d0"
  },
  {
   "cell_type": "code",
   "execution_count": 84,
   "outputs": [],
   "source": [
    "results_df = pd.DataFrame(data=None, columns=[str(i) for i in range(1, 8)])\n",
    "for metric in [\"balanced_accuracy\", \"defect_detection_rate\"]:\n",
    "    for model_id, covariates in enumerate([covariates1, covariates2, covariates3]):\n",
    "        results_df.loc[\"Observations\", :] = np.nan\n",
    "        results_df.loc[metric+\"_\"+str(int(model_id+1))+\"_coef\", :] = np.nan\n",
    "        results_df.loc[metric+\"_\"+str(int(model_id+1))+\"_se\", :] = np.nan\n",
    "for metric in [\"balanced_accuracy\", \"defect_detection_rate\"]:\n",
    "    for sample_id, combination in enumerate(list_combinations):\n",
    "        data_sub = data.copy()\n",
    "        for criterion in combination:\n",
    "            data_sub = data_sub[~data_sub[criterion]].copy()\n",
    "        results_df.loc['Observations', str(int(sample_id+1))] = len(data_sub)\n",
    "        for model_id, covariates in enumerate([covariates1, covariates2, covariates3]):\n",
    "            #print(\"Model:\", model_id+1)\n",
    "            X = data_sub.loc[:, covariates]\n",
    "            X[\"treatment\"] = np.where(X[\"treatment\"] == \"a\", 0, 1)\n",
    "            X = sm.add_constant(X)\n",
    "            X = X.astype(float)\n",
    "            y = data_sub.loc[:, metric].astype(float)*100\n",
    "            y = y.loc[X.index]\n",
    "            model = sm.OLS(y, X)\n",
    "            results = model.fit()\n",
    "            #print(\"Coef:\", np.round(results.params[\"treatment\"], 3), \"se:\", np.round(results.bse[\"treatment\"], 3), \"p:\", np.round(results.pvalues[\"treatment\"], 5))\n",
    "            if results.pvalues[\"treatment\"] < 0.001:\n",
    "                ast = \"***\"\n",
    "            elif results.pvalues[\"treatment\"] < 0.01:\n",
    "                ast = \"**\"\n",
    "            elif results.pvalues[\"treatment\"] < 0.05:\n",
    "                ast = \"*\"\n",
    "            else:\n",
    "                ast = \"\"\n",
    "            results_df.loc[metric+\"_\"+str(int(model_id+1))+\"_coef\", str(int(sample_id+1))] = \"{:.3f}\".format(np.round(results.params[\"treatment\"], 3))+ast\n",
    "            results_df.loc[metric+\"_\"+str(int(model_id+1))+\"_se\", str(int(sample_id+1))] = \"({:.3f})\".format(np.round(results.bse[\"treatment\"], 3))"
   ],
   "metadata": {
    "collapsed": false,
    "pycharm": {
     "name": "#%%\n"
    }
   },
   "id": "5b9fa0d1b234a636"
  },
  {
   "cell_type": "code",
   "execution_count": 85,
   "outputs": [
    {
     "name": "stdout",
     "output_type": "stream",
     "text": [
      "\\begin{tabular}{lllllll}\n",
      "\\toprule\n",
      "              1 &              2 &              3 &                4 &              5 &               6 &                7 \\\\\n",
      "\\midrule\n",
      "      \\tiny{56} &      \\tiny{50} &      \\tiny{55} &        \\tiny{54} &      \\tiny{49} &       \\tiny{48} &        \\tiny{54} \\\\\n",
      " \\tiny{7.987**} & \\tiny{8.759**} & \\tiny{6.559**} &  \\tiny{7.935***} & \\tiny{6.655**} & \\tiny{8.131***} &  \\tiny{7.935***} \\\\\n",
      " \\tiny{(2.579)} & \\tiny{(2.795)} & \\tiny{(2.202)} &   \\tiny{(1.912)} & \\tiny{(2.465)} &  \\tiny{(2.087)} &   \\tiny{(1.912)} \\\\\n",
      " \\tiny{7.830**} & \\tiny{8.550**} & \\tiny{6.068**} &  \\tiny{7.513***} &  \\tiny{5.874*} & \\tiny{7.513***} &  \\tiny{7.513***} \\\\\n",
      " \\tiny{(2.602)} & \\tiny{(2.834)} & \\tiny{(2.158)} &   \\tiny{(1.905)} & \\tiny{(2.431)} &  \\tiny{(2.098)} &   \\tiny{(1.905)} \\\\\n",
      "\\tiny{9.200***} & \\tiny{8.662**} & \\tiny{6.878**} &  \\tiny{8.101***} &  \\tiny{6.001*} &  \\tiny{7.508**} &  \\tiny{8.101***} \\\\\n",
      " \\tiny{(2.592)} & \\tiny{(2.821)} & \\tiny{(2.245)} &   \\tiny{(1.979)} & \\tiny{(2.415)} &  \\tiny{(2.117)} &   \\tiny{(1.979)} \\\\\n",
      " \\tiny{11.363*} & \\tiny{13.521*} &  \\tiny{8.293*} &  \\tiny{10.819**} &  \\tiny{9.099*} & \\tiny{11.783**} &  \\tiny{10.819**} \\\\\n",
      " \\tiny{(4.919)} & \\tiny{(5.273)} & \\tiny{(3.951)} &   \\tiny{(3.399)} & \\tiny{(4.432)} &  \\tiny{(3.732)} &   \\tiny{(3.399)} \\\\\n",
      " \\tiny{11.201*} & \\tiny{13.359*} &   \\tiny{7.491} &  \\tiny{10.170**} &   \\tiny{7.893} & \\tiny{10.914**} &  \\tiny{10.170**} \\\\\n",
      " \\tiny{(4.980)} & \\tiny{(5.366)} & \\tiny{(3.897)} &   \\tiny{(3.408)} & \\tiny{(4.419)} &  \\tiny{(3.790)} &   \\tiny{(3.408)} \\\\\n",
      "\\tiny{14.624**} & \\tiny{13.691*} &  \\tiny{9.878*} & \\tiny{12.104***} &   \\tiny{8.285} & \\tiny{10.888**} & \\tiny{12.104***} \\\\\n",
      " \\tiny{(4.791)} & \\tiny{(5.206)} & \\tiny{(3.944)} &   \\tiny{(3.431)} & \\tiny{(4.221)} &  \\tiny{(3.717)} &   \\tiny{(3.431)} \\\\\n",
      "\\bottomrule\n",
      "\\end{tabular}\n",
      "\n"
     ]
    }
   ],
   "source": [
    "# Formatter function to apply tiny font size\n",
    "def tiny_font(x):\n",
    "    return r'\\tiny{' + str(x) + '}'\n",
    "\n",
    "# Apply formatter to each column\n",
    "formatters = {col: tiny_font for col in results_df.columns}\n",
    "\n",
    "# Generate LaTeX code\n",
    "latex_output = results_df.to_latex(formatters=formatters, escape=False, index=False)\n",
    "print(latex_output)"
   ],
   "metadata": {
    "collapsed": false,
    "pycharm": {
     "name": "#%%\n"
    }
   },
   "id": "238f175034527fe2"
  },
  {
   "cell_type": "code",
   "execution_count": 85,
   "outputs": [],
   "source": [],
   "metadata": {
    "collapsed": false,
    "pycharm": {
     "name": "#%%\n"
    }
   },
   "id": "e74ca6f144226914"
  }
 ],
 "metadata": {
  "kernelspec": {
   "display_name": "Python 3",
   "language": "python",
   "name": "python3"
  },
  "language_info": {
   "codemirror_mode": {
    "name": "ipython",
    "version": 3
   },
   "file_extension": ".py",
   "mimetype": "text/x-python",
   "name": "python",
   "nbconvert_exporter": "python",
   "pygments_lexer": "ipython3",
   "version": "3.8.8"
  }
 },
 "nbformat": 4,
 "nbformat_minor": 5
}
